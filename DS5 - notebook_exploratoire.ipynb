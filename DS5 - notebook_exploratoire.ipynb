{
 "cells": [
  {
   "cell_type": "markdown",
   "id": "b530c811",
   "metadata": {},
   "source": [
    "# PROJET 5 : SEGMENTEZ DES CLIENTS D'UN SITE DE E-COMMERCE (NETTOYAGE ET EXPLORATION)"
   ]
  },
  {
   "cell_type": "markdown",
   "id": "d5806d97",
   "metadata": {},
   "source": [
    "## 0 - PRÉALABLES :"
   ]
  },
  {
   "cell_type": "markdown",
   "id": "96057d16",
   "metadata": {},
   "source": [
    "### A - Importation des librairies :"
   ]
  },
  {
   "cell_type": "code",
   "execution_count": 1,
   "id": "ca6d31d2",
   "metadata": {},
   "outputs": [],
   "source": [
    "# basics :\n",
    "import numpy as np\n",
    "import pandas as pd\n",
    "pd.set_option(\"display.max_columns\", None)\n",
    "import matplotlib.pyplot as plt\n",
    "import seaborn as sns\n",
    "\n",
    "# statistics\n",
    "import statsmodels.formula.api as smf\n",
    "\n",
    "# preprocessing :\n",
    "from sklearn.preprocessing import OneHotEncoder\n",
    "from sklearn.preprocessing import StandardScaler"
   ]
  },
  {
   "cell_type": "markdown",
   "id": "d1fa29f0",
   "metadata": {},
   "source": [
    "### B - Importation des fichiers :"
   ]
  },
  {
   "cell_type": "code",
   "execution_count": 2,
   "id": "94b8ec2c",
   "metadata": {},
   "outputs": [],
   "source": [
    "# Importation des fichiers :\n",
    "customers = pd.read_csv(\"olist_customers_dataset.csv\")\n",
    "geolocation = pd.read_csv(\"olist_geolocation_dataset.csv\")\n",
    "items = pd.read_csv(\"olist_order_items_dataset.csv\")\n",
    "payments = pd.read_csv(\"olist_order_payments_dataset.csv\")\n",
    "reviews = pd.read_csv(\"olist_order_reviews_dataset.csv\")\n",
    "orders = pd.read_csv(\"olist_orders_dataset.csv\")\n",
    "products = pd.read_csv(\"olist_products_dataset.csv\")\n",
    "sellers = pd.read_csv(\"olist_sellers_dataset.csv\")\n",
    "translation = pd.read_csv(\"product_category_name_translation.csv\")"
   ]
  },
  {
   "cell_type": "markdown",
   "id": "9f9ac59e",
   "metadata": {},
   "source": [
    "## I - CONCATÉNATION DES DIFFÉRENTS FICHIERS :"
   ]
  },
  {
   "cell_type": "raw",
   "id": "7fa13496",
   "metadata": {},
   "source": [
    "Nous avons affaire à 9 fichiers qui contiennent des informations parfois utiles pour répondre à notre problématique (segmenter de la clientèle), et parfois inutiles (mensuration des produits par exemple). Nous allons donc partir du fichier customer, et y effectuer petit à petit des jointures ce qui nous permettra également de mieux comprendre nos données."
   ]
  },
  {
   "cell_type": "markdown",
   "id": "d64ed7ae",
   "metadata": {},
   "source": [
    "### A - \"clients\" :"
   ]
  },
  {
   "cell_type": "markdown",
   "id": "b83aaca0",
   "metadata": {},
   "source": [
    "#### 1) Aperçu :"
   ]
  },
  {
   "cell_type": "code",
   "execution_count": 3,
   "id": "2d1010f2",
   "metadata": {},
   "outputs": [
    {
     "data": {
      "text/html": [
       "<div>\n",
       "<style scoped>\n",
       "    .dataframe tbody tr th:only-of-type {\n",
       "        vertical-align: middle;\n",
       "    }\n",
       "\n",
       "    .dataframe tbody tr th {\n",
       "        vertical-align: top;\n",
       "    }\n",
       "\n",
       "    .dataframe thead th {\n",
       "        text-align: right;\n",
       "    }\n",
       "</style>\n",
       "<table border=\"1\" class=\"dataframe\">\n",
       "  <thead>\n",
       "    <tr style=\"text-align: right;\">\n",
       "      <th></th>\n",
       "      <th>customer_id</th>\n",
       "      <th>customer_unique_id</th>\n",
       "      <th>customer_zip_code_prefix</th>\n",
       "      <th>customer_city</th>\n",
       "      <th>customer_state</th>\n",
       "    </tr>\n",
       "  </thead>\n",
       "  <tbody>\n",
       "    <tr>\n",
       "      <th>0</th>\n",
       "      <td>06b8999e2fba1a1fbc88172c00ba8bc7</td>\n",
       "      <td>861eff4711a542e4b93843c6dd7febb0</td>\n",
       "      <td>14409</td>\n",
       "      <td>franca</td>\n",
       "      <td>SP</td>\n",
       "    </tr>\n",
       "    <tr>\n",
       "      <th>1</th>\n",
       "      <td>18955e83d337fd6b2def6b18a428ac77</td>\n",
       "      <td>290c77bc529b7ac935b93aa66c333dc3</td>\n",
       "      <td>9790</td>\n",
       "      <td>sao bernardo do campo</td>\n",
       "      <td>SP</td>\n",
       "    </tr>\n",
       "  </tbody>\n",
       "</table>\n",
       "</div>"
      ],
      "text/plain": [
       "                        customer_id                customer_unique_id  \\\n",
       "0  06b8999e2fba1a1fbc88172c00ba8bc7  861eff4711a542e4b93843c6dd7febb0   \n",
       "1  18955e83d337fd6b2def6b18a428ac77  290c77bc529b7ac935b93aa66c333dc3   \n",
       "\n",
       "   customer_zip_code_prefix          customer_city customer_state  \n",
       "0                     14409                 franca             SP  \n",
       "1                      9790  sao bernardo do campo             SP  "
      ]
     },
     "execution_count": 3,
     "metadata": {},
     "output_type": "execute_result"
    }
   ],
   "source": [
    "# Aperçu du fichier customer :\n",
    "customers.head(2)"
   ]
  },
  {
   "cell_type": "code",
   "execution_count": 4,
   "id": "b3fdf7d1",
   "metadata": {},
   "outputs": [
    {
     "data": {
      "text/plain": [
       "(99441, 5)"
      ]
     },
     "execution_count": 4,
     "metadata": {},
     "output_type": "execute_result"
    }
   ],
   "source": [
    "# Dimensions du jeu de données :\n",
    "customers.shape"
   ]
  },
  {
   "cell_type": "code",
   "execution_count": 5,
   "id": "b62195d4",
   "metadata": {},
   "outputs": [
    {
     "data": {
      "text/plain": [
       "96096"
      ]
     },
     "execution_count": 5,
     "metadata": {},
     "output_type": "execute_result"
    }
   ],
   "source": [
    "# Nombre de clients uniques\n",
    "customers[\"customer_unique_id\"].nunique()"
   ]
  },
  {
   "cell_type": "code",
   "execution_count": 6,
   "id": "3022c835",
   "metadata": {},
   "outputs": [
    {
     "data": {
      "text/plain": [
       "0"
      ]
     },
     "execution_count": 6,
     "metadata": {},
     "output_type": "execute_result"
    }
   ],
   "source": [
    "# Nombre de valeurs dupliquées pour \"customer_id\" :\n",
    "customers[\"customer_id\"].duplicated().sum()"
   ]
  },
  {
   "cell_type": "code",
   "execution_count": 7,
   "id": "b6726a98",
   "metadata": {},
   "outputs": [
    {
     "data": {
      "text/plain": [
       "3345"
      ]
     },
     "execution_count": 7,
     "metadata": {},
     "output_type": "execute_result"
    }
   ],
   "source": [
    "# Nombre de valeurs dupliquées pour \"customer_unique_id\" :\n",
    "customers[\"customer_unique_id\"].duplicated().sum()"
   ]
  },
  {
   "cell_type": "markdown",
   "id": "69e96fce",
   "metadata": {},
   "source": [
    "#### 2) Commentaire :"
   ]
  },
  {
   "cell_type": "raw",
   "id": "71024f0b",
   "metadata": {},
   "source": [
    "La colonne customer_id ne contient aucune valeur dupliquée au contraire de la colonne customer_unique_id qui en compte 3345. Cela laisse à penser que la variable \"customer_id\" est rattachée à un acte d'achat, tandis que \"customer_unique_id\" est liée à l'identité du client. Cette seconde variable nous sera donc très précieuse. "
   ]
  },
  {
   "cell_type": "markdown",
   "id": "27d539cf",
   "metadata": {},
   "source": [
    "### B - \"transactions\" :"
   ]
  },
  {
   "cell_type": "markdown",
   "id": "e266df0d",
   "metadata": {},
   "source": [
    "#### 1) Aperçu :"
   ]
  },
  {
   "cell_type": "code",
   "execution_count": 8,
   "id": "296ac0f6",
   "metadata": {},
   "outputs": [
    {
     "data": {
      "text/html": [
       "<div>\n",
       "<style scoped>\n",
       "    .dataframe tbody tr th:only-of-type {\n",
       "        vertical-align: middle;\n",
       "    }\n",
       "\n",
       "    .dataframe tbody tr th {\n",
       "        vertical-align: top;\n",
       "    }\n",
       "\n",
       "    .dataframe thead th {\n",
       "        text-align: right;\n",
       "    }\n",
       "</style>\n",
       "<table border=\"1\" class=\"dataframe\">\n",
       "  <thead>\n",
       "    <tr style=\"text-align: right;\">\n",
       "      <th></th>\n",
       "      <th>order_id</th>\n",
       "      <th>customer_id</th>\n",
       "      <th>order_status</th>\n",
       "      <th>order_purchase_timestamp</th>\n",
       "      <th>order_approved_at</th>\n",
       "      <th>order_delivered_carrier_date</th>\n",
       "      <th>order_delivered_customer_date</th>\n",
       "      <th>order_estimated_delivery_date</th>\n",
       "    </tr>\n",
       "  </thead>\n",
       "  <tbody>\n",
       "    <tr>\n",
       "      <th>0</th>\n",
       "      <td>e481f51cbdc54678b7cc49136f2d6af7</td>\n",
       "      <td>9ef432eb6251297304e76186b10a928d</td>\n",
       "      <td>delivered</td>\n",
       "      <td>2017-10-02 10:56:33</td>\n",
       "      <td>2017-10-02 11:07:15</td>\n",
       "      <td>2017-10-04 19:55:00</td>\n",
       "      <td>2017-10-10 21:25:13</td>\n",
       "      <td>2017-10-18 00:00:00</td>\n",
       "    </tr>\n",
       "    <tr>\n",
       "      <th>1</th>\n",
       "      <td>53cdb2fc8bc7dce0b6741e2150273451</td>\n",
       "      <td>b0830fb4747a6c6d20dea0b8c802d7ef</td>\n",
       "      <td>delivered</td>\n",
       "      <td>2018-07-24 20:41:37</td>\n",
       "      <td>2018-07-26 03:24:27</td>\n",
       "      <td>2018-07-26 14:31:00</td>\n",
       "      <td>2018-08-07 15:27:45</td>\n",
       "      <td>2018-08-13 00:00:00</td>\n",
       "    </tr>\n",
       "  </tbody>\n",
       "</table>\n",
       "</div>"
      ],
      "text/plain": [
       "                           order_id                       customer_id  \\\n",
       "0  e481f51cbdc54678b7cc49136f2d6af7  9ef432eb6251297304e76186b10a928d   \n",
       "1  53cdb2fc8bc7dce0b6741e2150273451  b0830fb4747a6c6d20dea0b8c802d7ef   \n",
       "\n",
       "  order_status order_purchase_timestamp    order_approved_at  \\\n",
       "0    delivered      2017-10-02 10:56:33  2017-10-02 11:07:15   \n",
       "1    delivered      2018-07-24 20:41:37  2018-07-26 03:24:27   \n",
       "\n",
       "  order_delivered_carrier_date order_delivered_customer_date  \\\n",
       "0          2017-10-04 19:55:00           2017-10-10 21:25:13   \n",
       "1          2018-07-26 14:31:00           2018-08-07 15:27:45   \n",
       "\n",
       "  order_estimated_delivery_date  \n",
       "0           2017-10-18 00:00:00  \n",
       "1           2018-08-13 00:00:00  "
      ]
     },
     "execution_count": 8,
     "metadata": {},
     "output_type": "execute_result"
    }
   ],
   "source": [
    "orders.head(2)"
   ]
  },
  {
   "cell_type": "code",
   "execution_count": 9,
   "id": "4259acf8",
   "metadata": {},
   "outputs": [
    {
     "data": {
      "text/html": [
       "<div>\n",
       "<style scoped>\n",
       "    .dataframe tbody tr th:only-of-type {\n",
       "        vertical-align: middle;\n",
       "    }\n",
       "\n",
       "    .dataframe tbody tr th {\n",
       "        vertical-align: top;\n",
       "    }\n",
       "\n",
       "    .dataframe thead th {\n",
       "        text-align: right;\n",
       "    }\n",
       "</style>\n",
       "<table border=\"1\" class=\"dataframe\">\n",
       "  <thead>\n",
       "    <tr style=\"text-align: right;\">\n",
       "      <th></th>\n",
       "      <th>order_id</th>\n",
       "      <th>customer_id</th>\n",
       "      <th>order_status</th>\n",
       "      <th>order_purchase_timestamp</th>\n",
       "      <th>order_approved_at</th>\n",
       "      <th>order_delivered_carrier_date</th>\n",
       "      <th>order_delivered_customer_date</th>\n",
       "      <th>order_estimated_delivery_date</th>\n",
       "    </tr>\n",
       "  </thead>\n",
       "  <tbody>\n",
       "    <tr>\n",
       "      <th>0</th>\n",
       "      <td>e481f51cbdc54678b7cc49136f2d6af7</td>\n",
       "      <td>9ef432eb6251297304e76186b10a928d</td>\n",
       "      <td>delivered</td>\n",
       "      <td>2017-10-02 10:56:33</td>\n",
       "      <td>2017-10-02 11:07:15</td>\n",
       "      <td>2017-10-04 19:55:00</td>\n",
       "      <td>2017-10-10 21:25:13</td>\n",
       "      <td>2017-10-18 00:00:00</td>\n",
       "    </tr>\n",
       "    <tr>\n",
       "      <th>1</th>\n",
       "      <td>53cdb2fc8bc7dce0b6741e2150273451</td>\n",
       "      <td>b0830fb4747a6c6d20dea0b8c802d7ef</td>\n",
       "      <td>delivered</td>\n",
       "      <td>2018-07-24 20:41:37</td>\n",
       "      <td>2018-07-26 03:24:27</td>\n",
       "      <td>2018-07-26 14:31:00</td>\n",
       "      <td>2018-08-07 15:27:45</td>\n",
       "      <td>2018-08-13 00:00:00</td>\n",
       "    </tr>\n",
       "  </tbody>\n",
       "</table>\n",
       "</div>"
      ],
      "text/plain": [
       "                           order_id                       customer_id  \\\n",
       "0  e481f51cbdc54678b7cc49136f2d6af7  9ef432eb6251297304e76186b10a928d   \n",
       "1  53cdb2fc8bc7dce0b6741e2150273451  b0830fb4747a6c6d20dea0b8c802d7ef   \n",
       "\n",
       "  order_status order_purchase_timestamp    order_approved_at  \\\n",
       "0    delivered      2017-10-02 10:56:33  2017-10-02 11:07:15   \n",
       "1    delivered      2018-07-24 20:41:37  2018-07-26 03:24:27   \n",
       "\n",
       "  order_delivered_carrier_date order_delivered_customer_date  \\\n",
       "0          2017-10-04 19:55:00           2017-10-10 21:25:13   \n",
       "1          2018-07-26 14:31:00           2018-08-07 15:27:45   \n",
       "\n",
       "  order_estimated_delivery_date  \n",
       "0           2017-10-18 00:00:00  \n",
       "1           2018-08-13 00:00:00  "
      ]
     },
     "execution_count": 9,
     "metadata": {},
     "output_type": "execute_result"
    }
   ],
   "source": [
    "# Aperçu du fichier customer :\n",
    "orders.head(2)"
   ]
  },
  {
   "cell_type": "code",
   "execution_count": 10,
   "id": "c87c801f",
   "metadata": {},
   "outputs": [
    {
     "data": {
      "text/plain": [
       "(99441, 8)"
      ]
     },
     "execution_count": 10,
     "metadata": {},
     "output_type": "execute_result"
    }
   ],
   "source": [
    "# Dimensions du jeu de données :\n",
    "orders.shape"
   ]
  },
  {
   "cell_type": "markdown",
   "id": "68c281d7",
   "metadata": {},
   "source": [
    "#### 2) Commentaire"
   ]
  },
  {
   "cell_type": "raw",
   "id": "8033ce01",
   "metadata": {},
   "source": [
    "Le jeu de données \"orders\" contient autant d'individus que customer_id. En toute vraisemblance, il correspond aux commandes attribuées à un \"customer_id\". La jointure est donc facile. \n",
    "\n",
    "1 - En revanche, il semble pertinent de transformer nos variables temporelles en variables utiles à notre problématique à savoir :\n",
    "    - date de la commande\n",
    "    - temps de livraison de la commande\n",
    "    - différence entre le temps de livraison prévu et le temps effectif.\n",
    "    \n",
    "2 - Le statut de la commande n'est pas très pertinent en soi à l'exception des annulations. Nous allons donc transformer cette variable en une colonne binaire d'annulation."
   ]
  },
  {
   "cell_type": "markdown",
   "id": "4ad8b2ad",
   "metadata": {},
   "source": [
    "#### 3) Transformation des données :"
   ]
  },
  {
   "cell_type": "code",
   "execution_count": 11,
   "id": "6db9d4b3",
   "metadata": {},
   "outputs": [],
   "source": [
    "# Typage des variables date :\n",
    "orders[\"order_purchase_timestamp\"] = pd.to_datetime(orders[\"order_purchase_timestamp\"])\n",
    "orders[\"order_approved_at\"] = pd.to_datetime(orders[\"order_approved_at\"])\n",
    "orders[\"order_delivered_carrier_date\"] = pd.to_datetime(orders[\"order_delivered_carrier_date\"])\n",
    "orders[\"order_delivered_customer_date\"] = pd.to_datetime(orders[\"order_delivered_customer_date\"])\n",
    "orders[\"order_estimated_delivery_date\"] = pd.to_datetime(orders[\"order_estimated_delivery_date\"])"
   ]
  },
  {
   "cell_type": "code",
   "execution_count": 12,
   "id": "39457361",
   "metadata": {},
   "outputs": [],
   "source": [
    "# Création d'une variable \"délai de livraison\" :\n",
    "orders[\"order_delivering_time\"] = orders[\"order_delivered_customer_date\"] - orders[\"order_purchase_timestamp\"]"
   ]
  },
  {
   "cell_type": "code",
   "execution_count": 13,
   "id": "3eae141c",
   "metadata": {},
   "outputs": [],
   "source": [
    "# Création d'une variable \"retard de livraison\" :\n",
    "orders[\"delivering_late\"] = orders[\"order_delivered_customer_date\"] - orders[\"order_estimated_delivery_date\"]"
   ]
  },
  {
   "cell_type": "code",
   "execution_count": 14,
   "id": "fe52a144",
   "metadata": {},
   "outputs": [],
   "source": [
    "# Transformation de order_status :\n",
    "orders[\"order_status\"].replace(\"canceled\",1, inplace=True)\n",
    "orders[\"order_status\"].replace([\"delivered\",\"invoiced\",\"shipped\",\"processing\",\"unavailable\",\"created\",\"approved\"], 0, inplace=True)\n",
    "orders.rename(columns={\"order_status\":\"canceled\"}, inplace=True)\n",
    "orders[\"canceled\"] = orders[\"canceled\"].astype(\"int\")"
   ]
  },
  {
   "cell_type": "markdown",
   "id": "14832cc3",
   "metadata": {},
   "source": [
    "#### 4) Jointure :"
   ]
  },
  {
   "cell_type": "code",
   "execution_count": 15,
   "id": "24dbe1c3",
   "metadata": {},
   "outputs": [],
   "source": [
    "# Jointure du fichier clients avec le fichier commandes\n",
    "data = pd.merge(customers, orders[[\"order_id\",\"customer_id\",\"canceled\",\"order_purchase_timestamp\",\"order_delivering_time\",\"delivering_late\"]] , on=\"customer_id\")"
   ]
  },
  {
   "cell_type": "markdown",
   "id": "9cc4d725",
   "metadata": {},
   "source": [
    "### C - \"produits\" :"
   ]
  },
  {
   "cell_type": "markdown",
   "id": "cc126f35",
   "metadata": {},
   "source": [
    "#### 1) Aperçu :"
   ]
  },
  {
   "cell_type": "code",
   "execution_count": 16,
   "id": "a1bffb01",
   "metadata": {},
   "outputs": [
    {
     "data": {
      "text/html": [
       "<div>\n",
       "<style scoped>\n",
       "    .dataframe tbody tr th:only-of-type {\n",
       "        vertical-align: middle;\n",
       "    }\n",
       "\n",
       "    .dataframe tbody tr th {\n",
       "        vertical-align: top;\n",
       "    }\n",
       "\n",
       "    .dataframe thead th {\n",
       "        text-align: right;\n",
       "    }\n",
       "</style>\n",
       "<table border=\"1\" class=\"dataframe\">\n",
       "  <thead>\n",
       "    <tr style=\"text-align: right;\">\n",
       "      <th></th>\n",
       "      <th>order_id</th>\n",
       "      <th>order_item_id</th>\n",
       "      <th>product_id</th>\n",
       "      <th>seller_id</th>\n",
       "      <th>shipping_limit_date</th>\n",
       "      <th>price</th>\n",
       "      <th>freight_value</th>\n",
       "    </tr>\n",
       "  </thead>\n",
       "  <tbody>\n",
       "    <tr>\n",
       "      <th>0</th>\n",
       "      <td>00010242fe8c5a6d1ba2dd792cb16214</td>\n",
       "      <td>1</td>\n",
       "      <td>4244733e06e7ecb4970a6e2683c13e61</td>\n",
       "      <td>48436dade18ac8b2bce089ec2a041202</td>\n",
       "      <td>2017-09-19 09:45:35</td>\n",
       "      <td>58.9</td>\n",
       "      <td>13.29</td>\n",
       "    </tr>\n",
       "    <tr>\n",
       "      <th>1</th>\n",
       "      <td>00018f77f2f0320c557190d7a144bdd3</td>\n",
       "      <td>1</td>\n",
       "      <td>e5f2d52b802189ee658865ca93d83a8f</td>\n",
       "      <td>dd7ddc04e1b6c2c614352b383efe2d36</td>\n",
       "      <td>2017-05-03 11:05:13</td>\n",
       "      <td>239.9</td>\n",
       "      <td>19.93</td>\n",
       "    </tr>\n",
       "  </tbody>\n",
       "</table>\n",
       "</div>"
      ],
      "text/plain": [
       "                           order_id  order_item_id  \\\n",
       "0  00010242fe8c5a6d1ba2dd792cb16214              1   \n",
       "1  00018f77f2f0320c557190d7a144bdd3              1   \n",
       "\n",
       "                         product_id                         seller_id  \\\n",
       "0  4244733e06e7ecb4970a6e2683c13e61  48436dade18ac8b2bce089ec2a041202   \n",
       "1  e5f2d52b802189ee658865ca93d83a8f  dd7ddc04e1b6c2c614352b383efe2d36   \n",
       "\n",
       "   shipping_limit_date  price  freight_value  \n",
       "0  2017-09-19 09:45:35   58.9          13.29  \n",
       "1  2017-05-03 11:05:13  239.9          19.93  "
      ]
     },
     "execution_count": 16,
     "metadata": {},
     "output_type": "execute_result"
    }
   ],
   "source": [
    "# Aperçu du fichiers \"items\" :\n",
    "items.head(2)"
   ]
  },
  {
   "cell_type": "code",
   "execution_count": 17,
   "id": "bdff388c",
   "metadata": {},
   "outputs": [
    {
     "data": {
      "text/plain": [
       "(112650, 7)"
      ]
     },
     "execution_count": 17,
     "metadata": {},
     "output_type": "execute_result"
    }
   ],
   "source": [
    "# Dimensions du fichier \"items\" :\n",
    "items.shape"
   ]
  },
  {
   "cell_type": "code",
   "execution_count": 18,
   "id": "e830b2a8",
   "metadata": {},
   "outputs": [
    {
     "data": {
      "text/html": [
       "<div>\n",
       "<style scoped>\n",
       "    .dataframe tbody tr th:only-of-type {\n",
       "        vertical-align: middle;\n",
       "    }\n",
       "\n",
       "    .dataframe tbody tr th {\n",
       "        vertical-align: top;\n",
       "    }\n",
       "\n",
       "    .dataframe thead th {\n",
       "        text-align: right;\n",
       "    }\n",
       "</style>\n",
       "<table border=\"1\" class=\"dataframe\">\n",
       "  <thead>\n",
       "    <tr style=\"text-align: right;\">\n",
       "      <th></th>\n",
       "      <th>product_id</th>\n",
       "      <th>product_category_name</th>\n",
       "      <th>product_name_lenght</th>\n",
       "      <th>product_description_lenght</th>\n",
       "      <th>product_photos_qty</th>\n",
       "      <th>product_weight_g</th>\n",
       "      <th>product_length_cm</th>\n",
       "      <th>product_height_cm</th>\n",
       "      <th>product_width_cm</th>\n",
       "    </tr>\n",
       "  </thead>\n",
       "  <tbody>\n",
       "    <tr>\n",
       "      <th>0</th>\n",
       "      <td>1e9e8ef04dbcff4541ed26657ea517e5</td>\n",
       "      <td>perfumaria</td>\n",
       "      <td>40.0</td>\n",
       "      <td>287.0</td>\n",
       "      <td>1.0</td>\n",
       "      <td>225.0</td>\n",
       "      <td>16.0</td>\n",
       "      <td>10.0</td>\n",
       "      <td>14.0</td>\n",
       "    </tr>\n",
       "    <tr>\n",
       "      <th>1</th>\n",
       "      <td>3aa071139cb16b67ca9e5dea641aaa2f</td>\n",
       "      <td>artes</td>\n",
       "      <td>44.0</td>\n",
       "      <td>276.0</td>\n",
       "      <td>1.0</td>\n",
       "      <td>1000.0</td>\n",
       "      <td>30.0</td>\n",
       "      <td>18.0</td>\n",
       "      <td>20.0</td>\n",
       "    </tr>\n",
       "    <tr>\n",
       "      <th>2</th>\n",
       "      <td>96bd76ec8810374ed1b65e291975717f</td>\n",
       "      <td>esporte_lazer</td>\n",
       "      <td>46.0</td>\n",
       "      <td>250.0</td>\n",
       "      <td>1.0</td>\n",
       "      <td>154.0</td>\n",
       "      <td>18.0</td>\n",
       "      <td>9.0</td>\n",
       "      <td>15.0</td>\n",
       "    </tr>\n",
       "    <tr>\n",
       "      <th>3</th>\n",
       "      <td>cef67bcfe19066a932b7673e239eb23d</td>\n",
       "      <td>bebes</td>\n",
       "      <td>27.0</td>\n",
       "      <td>261.0</td>\n",
       "      <td>1.0</td>\n",
       "      <td>371.0</td>\n",
       "      <td>26.0</td>\n",
       "      <td>4.0</td>\n",
       "      <td>26.0</td>\n",
       "    </tr>\n",
       "    <tr>\n",
       "      <th>4</th>\n",
       "      <td>9dc1a7de274444849c219cff195d0b71</td>\n",
       "      <td>utilidades_domesticas</td>\n",
       "      <td>37.0</td>\n",
       "      <td>402.0</td>\n",
       "      <td>4.0</td>\n",
       "      <td>625.0</td>\n",
       "      <td>20.0</td>\n",
       "      <td>17.0</td>\n",
       "      <td>13.0</td>\n",
       "    </tr>\n",
       "  </tbody>\n",
       "</table>\n",
       "</div>"
      ],
      "text/plain": [
       "                         product_id  product_category_name  \\\n",
       "0  1e9e8ef04dbcff4541ed26657ea517e5             perfumaria   \n",
       "1  3aa071139cb16b67ca9e5dea641aaa2f                  artes   \n",
       "2  96bd76ec8810374ed1b65e291975717f          esporte_lazer   \n",
       "3  cef67bcfe19066a932b7673e239eb23d                  bebes   \n",
       "4  9dc1a7de274444849c219cff195d0b71  utilidades_domesticas   \n",
       "\n",
       "   product_name_lenght  product_description_lenght  product_photos_qty  \\\n",
       "0                 40.0                       287.0                 1.0   \n",
       "1                 44.0                       276.0                 1.0   \n",
       "2                 46.0                       250.0                 1.0   \n",
       "3                 27.0                       261.0                 1.0   \n",
       "4                 37.0                       402.0                 4.0   \n",
       "\n",
       "   product_weight_g  product_length_cm  product_height_cm  product_width_cm  \n",
       "0             225.0               16.0               10.0              14.0  \n",
       "1            1000.0               30.0               18.0              20.0  \n",
       "2             154.0               18.0                9.0              15.0  \n",
       "3             371.0               26.0                4.0              26.0  \n",
       "4             625.0               20.0               17.0              13.0  "
      ]
     },
     "execution_count": 18,
     "metadata": {},
     "output_type": "execute_result"
    }
   ],
   "source": [
    "# aperçu du fichier \"products\" :\n",
    "products.head()"
   ]
  },
  {
   "cell_type": "code",
   "execution_count": 19,
   "id": "c5d01ff2",
   "metadata": {},
   "outputs": [
    {
     "data": {
      "text/plain": [
       "(32951, 9)"
      ]
     },
     "execution_count": 19,
     "metadata": {},
     "output_type": "execute_result"
    }
   ],
   "source": [
    "# Dimensions du fichier \"products\" :\n",
    "products.shape"
   ]
  },
  {
   "cell_type": "markdown",
   "id": "954ccdbc",
   "metadata": {},
   "source": [
    "#### 2) Commentaires :"
   ]
  },
  {
   "cell_type": "raw",
   "id": "27b15dc5",
   "metadata": {},
   "source": [
    "Ce qui nous intéresse dans ces deux fichiers réside uniquement dans la catégorie de produit achetée, ainsi que l'identité du vendeur. Nous allons dans un premier temps effectuer une jointure entre les fichiers \"items\" et \"products\". Nous en profiterons pour traduire en anglais les catégories de produits grâce au fichier \"translation\".\n",
    "\n",
    "Afin d'éviter les duplicats, il faudra supprimer des variables qui ne nous concernent pas telles que \"seller_id\". \n",
    "\n",
    "La variable order_item_id devra également être effacée. Elle correspond en effet à un numéro attribué à des produits identiques achetés en plusieurs exemplaires. Exprimée ainsi, cette variable a le double inconvénient de perdre l'information principale (le nombre de produits achetés) et de multiplier inutilement le nombre de lignes de notre dataset en dupliquant les acheteurs."
   ]
  },
  {
   "cell_type": "markdown",
   "id": "716cdfdf",
   "metadata": {},
   "source": [
    "#### 3) Traduction des noms de produits :"
   ]
  },
  {
   "cell_type": "code",
   "execution_count": 20,
   "id": "9ad43f8a",
   "metadata": {},
   "outputs": [
    {
     "data": {
      "text/plain": [
       "{nan, 'pc_gamer', 'portateis_cozinha_e_preparadores_de_alimentos'}"
      ]
     },
     "execution_count": 20,
     "metadata": {},
     "output_type": "execute_result"
    }
   ],
   "source": [
    "# Traductions manquantes :\n",
    "set(products[\"product_category_name\"].unique()) - set(translation[\"product_category_name\"].unique())"
   ]
  },
  {
   "cell_type": "code",
   "execution_count": 21,
   "id": "b925bd64",
   "metadata": {},
   "outputs": [],
   "source": [
    "# Ajout des manques à la traduction :\n",
    "add = pd.DataFrame({\"product_category_name\" : [\"pc_gamer\", \"portateis_cozinha_e_preparadores_de_alimentos\"],\n",
    "                   \"product_category_name_english\" : [\"pc_gamer\", \"take_away_food\"]})\n",
    "translation = pd.concat([translation, add])"
   ]
  },
  {
   "cell_type": "code",
   "execution_count": 22,
   "id": "8c523d20",
   "metadata": {},
   "outputs": [],
   "source": [
    "# Traduction en anglais des catégories de produits :\n",
    "products = pd.merge(products, translation, on=\"product_category_name\", how=\"left\")"
   ]
  },
  {
   "cell_type": "markdown",
   "id": "705a229d",
   "metadata": {},
   "source": [
    "#### 4) Jointure de la catégorie de produit sur le code produit :"
   ]
  },
  {
   "cell_type": "code",
   "execution_count": 23,
   "id": "86c1aac5",
   "metadata": {},
   "outputs": [],
   "source": [
    "# Jointure de products à items :\n",
    "items = pd.merge(items, products[[\"product_id\",\"product_category_name_english\"]], how=\"left\")"
   ]
  },
  {
   "cell_type": "markdown",
   "id": "74ebe5ae",
   "metadata": {},
   "source": [
    "#### 5) Suppression de la variable \"order_item_id\" et des duplicats :"
   ]
  },
  {
   "cell_type": "code",
   "execution_count": 24,
   "id": "99a11f9b",
   "metadata": {
    "scrolled": true
   },
   "outputs": [],
   "source": [
    "# Suppression de \"order_item_id\" :\n",
    "items.drop(columns=[\"order_item_id\",\"seller_id\"], inplace=True)"
   ]
  },
  {
   "cell_type": "code",
   "execution_count": 25,
   "id": "1feb289a",
   "metadata": {},
   "outputs": [],
   "source": [
    "# Suppression des duplicats :\n",
    "items.drop_duplicates(inplace=True)"
   ]
  },
  {
   "cell_type": "markdown",
   "id": "1de867b7",
   "metadata": {},
   "source": [
    "#### 5) Jointure des informations de commandes et de produits au dataframe principal :"
   ]
  },
  {
   "cell_type": "code",
   "execution_count": 26,
   "id": "c365ba47",
   "metadata": {},
   "outputs": [],
   "source": [
    "# Jointure de \"items\" à \"data\" :\n",
    "data = pd.merge(data, items.drop(columns=[\"shipping_limit_date\"]), on=\"order_id\", how=\"left\")"
   ]
  },
  {
   "cell_type": "markdown",
   "id": "ac14c9d3",
   "metadata": {},
   "source": [
    "### D - \"payments\" :"
   ]
  },
  {
   "cell_type": "markdown",
   "id": "0b47ba0f",
   "metadata": {},
   "source": [
    "#### 1) Aperçu :"
   ]
  },
  {
   "cell_type": "code",
   "execution_count": 27,
   "id": "2f8d63c0",
   "metadata": {},
   "outputs": [
    {
     "data": {
      "text/html": [
       "<div>\n",
       "<style scoped>\n",
       "    .dataframe tbody tr th:only-of-type {\n",
       "        vertical-align: middle;\n",
       "    }\n",
       "\n",
       "    .dataframe tbody tr th {\n",
       "        vertical-align: top;\n",
       "    }\n",
       "\n",
       "    .dataframe thead th {\n",
       "        text-align: right;\n",
       "    }\n",
       "</style>\n",
       "<table border=\"1\" class=\"dataframe\">\n",
       "  <thead>\n",
       "    <tr style=\"text-align: right;\">\n",
       "      <th></th>\n",
       "      <th>order_id</th>\n",
       "      <th>payment_sequential</th>\n",
       "      <th>payment_type</th>\n",
       "      <th>payment_installments</th>\n",
       "      <th>payment_value</th>\n",
       "    </tr>\n",
       "  </thead>\n",
       "  <tbody>\n",
       "    <tr>\n",
       "      <th>0</th>\n",
       "      <td>b81ef226f3fe1789b1e8b2acac839d17</td>\n",
       "      <td>1</td>\n",
       "      <td>credit_card</td>\n",
       "      <td>8</td>\n",
       "      <td>99.33</td>\n",
       "    </tr>\n",
       "    <tr>\n",
       "      <th>1</th>\n",
       "      <td>a9810da82917af2d9aefd1278f1dcfa0</td>\n",
       "      <td>1</td>\n",
       "      <td>credit_card</td>\n",
       "      <td>1</td>\n",
       "      <td>24.39</td>\n",
       "    </tr>\n",
       "  </tbody>\n",
       "</table>\n",
       "</div>"
      ],
      "text/plain": [
       "                           order_id  payment_sequential payment_type  \\\n",
       "0  b81ef226f3fe1789b1e8b2acac839d17                   1  credit_card   \n",
       "1  a9810da82917af2d9aefd1278f1dcfa0                   1  credit_card   \n",
       "\n",
       "   payment_installments  payment_value  \n",
       "0                     8          99.33  \n",
       "1                     1          24.39  "
      ]
     },
     "execution_count": 27,
     "metadata": {},
     "output_type": "execute_result"
    }
   ],
   "source": [
    "# Aperçu du fichiers \"payments\" :\n",
    "payments.head(2)"
   ]
  },
  {
   "cell_type": "code",
   "execution_count": 28,
   "id": "147506db",
   "metadata": {},
   "outputs": [
    {
     "data": {
      "text/plain": [
       "(103886, 5)"
      ]
     },
     "execution_count": 28,
     "metadata": {},
     "output_type": "execute_result"
    }
   ],
   "source": [
    "# Dimensions du fichier \"items\" :\n",
    "payments.shape"
   ]
  },
  {
   "cell_type": "markdown",
   "id": "7c8f3d37",
   "metadata": {},
   "source": [
    "#### 2) Commentaire :"
   ]
  },
  {
   "cell_type": "raw",
   "id": "fda04f6b",
   "metadata": {},
   "source": [
    "Le fichier \"payments\" nous renseigne sur les habitudes de paiements de nos clients. Utilisent-ils des bons de réduction ? Paient-ils comptant ou en plusieurs fois ? La variable \"payment_sequential\" nous informe particulièrement sur les clients friands de bons de réductions : plus cette variable est élevée, et plus le client a accumulé les bons de réduction pour payer son bien."
   ]
  },
  {
   "cell_type": "markdown",
   "id": "4bcbfdc5",
   "metadata": {},
   "source": [
    "#### 3) Suppression de \"payment_type\" et groupement par commandes :"
   ]
  },
  {
   "cell_type": "raw",
   "id": "562ae4f5",
   "metadata": {},
   "source": [
    "Après exploration du dataset, il apparaît que la variable \"payment_type\" qui apparaît de prime abord importante ne l'est pas tant que cela. En effet, elle ne recense que 4 valeurs :\n",
    "\n",
    "- La différence entre \"carte de crédit\" et \"carte de débit\" est ténue et n'a finalement d'importance que pour la banque qui avance ou non l'argent. Concernant l'entreprise Olist, la variable \"payments_installment\" est réellement celle qui indique véritablement si le client paye comptant ou en plusieurs fois.\n",
    "\n",
    "- Le fait que le client paye ou non en liquide ne semble pas non plus une donnée primordiale.\n",
    "\n",
    "- L'utilisation de bons d'achat est effectivement une information très importante pour connaître le comportement des clients et adapter les offres commerciales. Cependant, la variable \"payment_sequential\" correspond à peu de choses près au nombre de bons d'achat utilisés, elle donne donc la même information avec davantage de précision.\n",
    "\n",
    "Ainsi, il ne paraît pas opportun de conserver la variable \"payment_type\". D'autant que cela nous permet de regrouper les payements et de ne pas multiplier les lignes pour une commande unique."
   ]
  },
  {
   "cell_type": "code",
   "execution_count": 29,
   "id": "fef23e6e",
   "metadata": {},
   "outputs": [],
   "source": [
    "# Suppression de la variable \"payment_type\" :\n",
    "payments = payments.drop(columns=[\"payment_type\"])"
   ]
  },
  {
   "cell_type": "code",
   "execution_count": 30,
   "id": "090d8362",
   "metadata": {},
   "outputs": [],
   "source": [
    "# Groupement sur order_id :\n",
    "payments = payments.groupby(\"order_id\", as_index=False).sum()"
   ]
  },
  {
   "cell_type": "markdown",
   "id": "8068c13c",
   "metadata": {},
   "source": [
    "#### 4) Jointure des informations de paiement au dataframe principal :"
   ]
  },
  {
   "cell_type": "code",
   "execution_count": 31,
   "id": "7bcd824a",
   "metadata": {},
   "outputs": [],
   "source": [
    "# jointure de \"payments\" à \"data\" :\n",
    "data = pd.merge(data, payments, on=\"order_id\", how=\"left\")"
   ]
  },
  {
   "cell_type": "code",
   "execution_count": 32,
   "id": "2bad46a4",
   "metadata": {},
   "outputs": [],
   "source": [
    "# Remplacement des valeurs manquantes de \"payment_value\" :\n",
    "data[\"payment_value\"] = data[\"payment_value\"].fillna(data[\"price\"]+data[\"freight_value\"])"
   ]
  },
  {
   "cell_type": "markdown",
   "id": "f376442a",
   "metadata": {
    "scrolled": false
   },
   "source": [
    "### E - \"reviews\" :"
   ]
  },
  {
   "cell_type": "markdown",
   "id": "2ccb9b67",
   "metadata": {},
   "source": [
    "#### 1) Aperçu :"
   ]
  },
  {
   "cell_type": "code",
   "execution_count": 33,
   "id": "76c845b0",
   "metadata": {},
   "outputs": [
    {
     "data": {
      "text/html": [
       "<div>\n",
       "<style scoped>\n",
       "    .dataframe tbody tr th:only-of-type {\n",
       "        vertical-align: middle;\n",
       "    }\n",
       "\n",
       "    .dataframe tbody tr th {\n",
       "        vertical-align: top;\n",
       "    }\n",
       "\n",
       "    .dataframe thead th {\n",
       "        text-align: right;\n",
       "    }\n",
       "</style>\n",
       "<table border=\"1\" class=\"dataframe\">\n",
       "  <thead>\n",
       "    <tr style=\"text-align: right;\">\n",
       "      <th></th>\n",
       "      <th>review_id</th>\n",
       "      <th>order_id</th>\n",
       "      <th>review_score</th>\n",
       "      <th>review_comment_title</th>\n",
       "      <th>review_comment_message</th>\n",
       "      <th>review_creation_date</th>\n",
       "      <th>review_answer_timestamp</th>\n",
       "    </tr>\n",
       "  </thead>\n",
       "  <tbody>\n",
       "    <tr>\n",
       "      <th>0</th>\n",
       "      <td>7bc2406110b926393aa56f80a40eba40</td>\n",
       "      <td>73fc7af87114b39712e6da79b0a377eb</td>\n",
       "      <td>4</td>\n",
       "      <td>NaN</td>\n",
       "      <td>NaN</td>\n",
       "      <td>2018-01-18 00:00:00</td>\n",
       "      <td>2018-01-18 21:46:59</td>\n",
       "    </tr>\n",
       "    <tr>\n",
       "      <th>1</th>\n",
       "      <td>80e641a11e56f04c1ad469d5645fdfde</td>\n",
       "      <td>a548910a1c6147796b98fdf73dbeba33</td>\n",
       "      <td>5</td>\n",
       "      <td>NaN</td>\n",
       "      <td>NaN</td>\n",
       "      <td>2018-03-10 00:00:00</td>\n",
       "      <td>2018-03-11 03:05:13</td>\n",
       "    </tr>\n",
       "  </tbody>\n",
       "</table>\n",
       "</div>"
      ],
      "text/plain": [
       "                          review_id                          order_id  \\\n",
       "0  7bc2406110b926393aa56f80a40eba40  73fc7af87114b39712e6da79b0a377eb   \n",
       "1  80e641a11e56f04c1ad469d5645fdfde  a548910a1c6147796b98fdf73dbeba33   \n",
       "\n",
       "   review_score review_comment_title review_comment_message  \\\n",
       "0             4                  NaN                    NaN   \n",
       "1             5                  NaN                    NaN   \n",
       "\n",
       "  review_creation_date review_answer_timestamp  \n",
       "0  2018-01-18 00:00:00     2018-01-18 21:46:59  \n",
       "1  2018-03-10 00:00:00     2018-03-11 03:05:13  "
      ]
     },
     "execution_count": 33,
     "metadata": {},
     "output_type": "execute_result"
    }
   ],
   "source": [
    "# Aperçu du fichier \"reviews\"\n",
    "reviews.head(2)"
   ]
  },
  {
   "cell_type": "markdown",
   "id": "1a060e1d",
   "metadata": {},
   "source": [
    "#### 2) Commentaires :"
   ]
  },
  {
   "cell_type": "raw",
   "id": "4dbaf702",
   "metadata": {},
   "source": [
    "Du fichier \"reviews\" seul le score attribué par le client semble être une variable intéressante. Il serait bien sûr possible d'effectuer du traitement de langage naturel sur les variables \"review_comment_title\" ou \"review_comment_message\" mais cela serait utile plutôt pour améliorer les produits et les services. Or, ce n'est pas ce que nous recherchons. Le \"review score\", en revanche, nous donnera des indications sur le niveau d'exigence du client."
   ]
  },
  {
   "cell_type": "markdown",
   "id": "a17f43d3",
   "metadata": {},
   "source": [
    "#### 3) Jointure de la note à l'acte d'achat sur le dataframe principal :"
   ]
  },
  {
   "cell_type": "code",
   "execution_count": 34,
   "id": "27161a36",
   "metadata": {},
   "outputs": [],
   "source": [
    "# Jointure de \"review_score\" à data :\n",
    "data = pd.merge(data, reviews[[\"order_id\",\"review_score\"]], on=\"order_id\", how=\"left\")"
   ]
  },
  {
   "cell_type": "markdown",
   "id": "467271b6",
   "metadata": {},
   "source": [
    "### F - \"geolocation\" et \"sellers\" :"
   ]
  },
  {
   "cell_type": "markdown",
   "id": "5864a8ba",
   "metadata": {},
   "source": [
    "#### 1) Aperçu de geolocation :"
   ]
  },
  {
   "cell_type": "code",
   "execution_count": 35,
   "id": "33066091",
   "metadata": {},
   "outputs": [
    {
     "data": {
      "text/html": [
       "<div>\n",
       "<style scoped>\n",
       "    .dataframe tbody tr th:only-of-type {\n",
       "        vertical-align: middle;\n",
       "    }\n",
       "\n",
       "    .dataframe tbody tr th {\n",
       "        vertical-align: top;\n",
       "    }\n",
       "\n",
       "    .dataframe thead th {\n",
       "        text-align: right;\n",
       "    }\n",
       "</style>\n",
       "<table border=\"1\" class=\"dataframe\">\n",
       "  <thead>\n",
       "    <tr style=\"text-align: right;\">\n",
       "      <th></th>\n",
       "      <th>geolocation_zip_code_prefix</th>\n",
       "      <th>geolocation_lat</th>\n",
       "      <th>geolocation_lng</th>\n",
       "      <th>geolocation_city</th>\n",
       "      <th>geolocation_state</th>\n",
       "    </tr>\n",
       "  </thead>\n",
       "  <tbody>\n",
       "    <tr>\n",
       "      <th>1246</th>\n",
       "      <td>1001</td>\n",
       "      <td>-23.549292</td>\n",
       "      <td>-46.633559</td>\n",
       "      <td>sao paulo</td>\n",
       "      <td>SP</td>\n",
       "    </tr>\n",
       "    <tr>\n",
       "      <th>429</th>\n",
       "      <td>1001</td>\n",
       "      <td>-23.550498</td>\n",
       "      <td>-46.634338</td>\n",
       "      <td>sao paulo</td>\n",
       "      <td>SP</td>\n",
       "    </tr>\n",
       "    <tr>\n",
       "      <th>1182</th>\n",
       "      <td>1001</td>\n",
       "      <td>-23.549779</td>\n",
       "      <td>-46.633957</td>\n",
       "      <td>sao paulo</td>\n",
       "      <td>SP</td>\n",
       "    </tr>\n",
       "    <tr>\n",
       "      <th>1435</th>\n",
       "      <td>1001</td>\n",
       "      <td>-23.549292</td>\n",
       "      <td>-46.633559</td>\n",
       "      <td>sao paulo</td>\n",
       "      <td>SP</td>\n",
       "    </tr>\n",
       "    <tr>\n",
       "      <th>326</th>\n",
       "      <td>1001</td>\n",
       "      <td>-23.551427</td>\n",
       "      <td>-46.634074</td>\n",
       "      <td>sao paulo</td>\n",
       "      <td>SP</td>\n",
       "    </tr>\n",
       "    <tr>\n",
       "      <th>...</th>\n",
       "      <td>...</td>\n",
       "      <td>...</td>\n",
       "      <td>...</td>\n",
       "      <td>...</td>\n",
       "      <td>...</td>\n",
       "    </tr>\n",
       "    <tr>\n",
       "      <th>1000026</th>\n",
       "      <td>99980</td>\n",
       "      <td>-28.388679</td>\n",
       "      <td>-51.848863</td>\n",
       "      <td>david canabarro</td>\n",
       "      <td>RS</td>\n",
       "    </tr>\n",
       "    <tr>\n",
       "      <th>999950</th>\n",
       "      <td>99980</td>\n",
       "      <td>-28.388400</td>\n",
       "      <td>-51.845225</td>\n",
       "      <td>david canabarro</td>\n",
       "      <td>RS</td>\n",
       "    </tr>\n",
       "    <tr>\n",
       "      <th>1000002</th>\n",
       "      <td>99980</td>\n",
       "      <td>-28.388342</td>\n",
       "      <td>-51.845194</td>\n",
       "      <td>david canabarro</td>\n",
       "      <td>RS</td>\n",
       "    </tr>\n",
       "    <tr>\n",
       "      <th>999864</th>\n",
       "      <td>99990</td>\n",
       "      <td>-28.329472</td>\n",
       "      <td>-51.769109</td>\n",
       "      <td>muliterno</td>\n",
       "      <td>RS</td>\n",
       "    </tr>\n",
       "    <tr>\n",
       "      <th>999758</th>\n",
       "      <td>99990</td>\n",
       "      <td>-28.329718</td>\n",
       "      <td>-51.769615</td>\n",
       "      <td>muliterno</td>\n",
       "      <td>RS</td>\n",
       "    </tr>\n",
       "  </tbody>\n",
       "</table>\n",
       "<p>1000163 rows × 5 columns</p>\n",
       "</div>"
      ],
      "text/plain": [
       "         geolocation_zip_code_prefix  geolocation_lat  geolocation_lng  \\\n",
       "1246                            1001       -23.549292       -46.633559   \n",
       "429                             1001       -23.550498       -46.634338   \n",
       "1182                            1001       -23.549779       -46.633957   \n",
       "1435                            1001       -23.549292       -46.633559   \n",
       "326                             1001       -23.551427       -46.634074   \n",
       "...                              ...              ...              ...   \n",
       "1000026                        99980       -28.388679       -51.848863   \n",
       "999950                         99980       -28.388400       -51.845225   \n",
       "1000002                        99980       -28.388342       -51.845194   \n",
       "999864                         99990       -28.329472       -51.769109   \n",
       "999758                         99990       -28.329718       -51.769615   \n",
       "\n",
       "        geolocation_city geolocation_state  \n",
       "1246           sao paulo                SP  \n",
       "429            sao paulo                SP  \n",
       "1182           sao paulo                SP  \n",
       "1435           sao paulo                SP  \n",
       "326            sao paulo                SP  \n",
       "...                  ...               ...  \n",
       "1000026  david canabarro                RS  \n",
       "999950   david canabarro                RS  \n",
       "1000002  david canabarro                RS  \n",
       "999864         muliterno                RS  \n",
       "999758         muliterno                RS  \n",
       "\n",
       "[1000163 rows x 5 columns]"
      ]
     },
     "execution_count": 35,
     "metadata": {},
     "output_type": "execute_result"
    }
   ],
   "source": [
    "# Aperçu du fichiers \"geolocation\" :\n",
    "geolocation.sort_values(by=\"geolocation_zip_code_prefix\")"
   ]
  },
  {
   "cell_type": "code",
   "execution_count": 36,
   "id": "9bac418a",
   "metadata": {},
   "outputs": [
    {
     "data": {
      "text/plain": [
       "(1000163, 5)"
      ]
     },
     "execution_count": 36,
     "metadata": {},
     "output_type": "execute_result"
    }
   ],
   "source": [
    "# Dimensions du fichier \"geolocation\" :\n",
    "geolocation.shape"
   ]
  },
  {
   "cell_type": "markdown",
   "id": "af40d8c3",
   "metadata": {},
   "source": [
    "#### 2) Commentaires (sur \"géolocation\") :"
   ]
  },
  {
   "cell_type": "raw",
   "id": "78d5f9f6",
   "metadata": {},
   "source": [
    "Les informations géographiques dont nous disposons sur les clients (État fédéral de domiciliation, ville et code postal) paraissent amplement suffisantes."
   ]
  },
  {
   "cell_type": "markdown",
   "id": "02af4cbd",
   "metadata": {},
   "source": [
    "#### 3) Aperçu de \"sellers\" :"
   ]
  },
  {
   "cell_type": "code",
   "execution_count": 37,
   "id": "742a462e",
   "metadata": {},
   "outputs": [
    {
     "data": {
      "text/html": [
       "<div>\n",
       "<style scoped>\n",
       "    .dataframe tbody tr th:only-of-type {\n",
       "        vertical-align: middle;\n",
       "    }\n",
       "\n",
       "    .dataframe tbody tr th {\n",
       "        vertical-align: top;\n",
       "    }\n",
       "\n",
       "    .dataframe thead th {\n",
       "        text-align: right;\n",
       "    }\n",
       "</style>\n",
       "<table border=\"1\" class=\"dataframe\">\n",
       "  <thead>\n",
       "    <tr style=\"text-align: right;\">\n",
       "      <th></th>\n",
       "      <th>seller_id</th>\n",
       "      <th>seller_zip_code_prefix</th>\n",
       "      <th>seller_city</th>\n",
       "      <th>seller_state</th>\n",
       "    </tr>\n",
       "  </thead>\n",
       "  <tbody>\n",
       "    <tr>\n",
       "      <th>0</th>\n",
       "      <td>3442f8959a84dea7ee197c632cb2df15</td>\n",
       "      <td>13023</td>\n",
       "      <td>campinas</td>\n",
       "      <td>SP</td>\n",
       "    </tr>\n",
       "    <tr>\n",
       "      <th>1</th>\n",
       "      <td>d1b65fc7debc3361ea86b5f14c68d2e2</td>\n",
       "      <td>13844</td>\n",
       "      <td>mogi guacu</td>\n",
       "      <td>SP</td>\n",
       "    </tr>\n",
       "  </tbody>\n",
       "</table>\n",
       "</div>"
      ],
      "text/plain": [
       "                          seller_id  seller_zip_code_prefix seller_city  \\\n",
       "0  3442f8959a84dea7ee197c632cb2df15                   13023    campinas   \n",
       "1  d1b65fc7debc3361ea86b5f14c68d2e2                   13844  mogi guacu   \n",
       "\n",
       "  seller_state  \n",
       "0           SP  \n",
       "1           SP  "
      ]
     },
     "execution_count": 37,
     "metadata": {},
     "output_type": "execute_result"
    }
   ],
   "source": [
    "# Aperçu de \"sellers\" :\n",
    "sellers.head(2)"
   ]
  },
  {
   "cell_type": "markdown",
   "id": "22e2407c",
   "metadata": {},
   "source": [
    "#### 4) Commentaires (sur \"sellers\") :"
   ]
  },
  {
   "cell_type": "raw",
   "id": "a7c9ad94",
   "metadata": {},
   "source": [
    "les informations sur les vendeurs ne nous sont pas utiles car ce sont les clients qui nous intéressent."
   ]
  },
  {
   "cell_type": "markdown",
   "id": "09bd5bca",
   "metadata": {},
   "source": [
    "### G - Conclusion de la première partie :"
   ]
  },
  {
   "cell_type": "markdown",
   "id": "1d93ecf9",
   "metadata": {},
   "source": [
    "#### 1) Aperçu du dataframe principal :"
   ]
  },
  {
   "cell_type": "code",
   "execution_count": 42,
   "id": "934b3bd0",
   "metadata": {},
   "outputs": [
    {
     "data": {
      "text/html": [
       "<div>\n",
       "<style scoped>\n",
       "    .dataframe tbody tr th:only-of-type {\n",
       "        vertical-align: middle;\n",
       "    }\n",
       "\n",
       "    .dataframe tbody tr th {\n",
       "        vertical-align: top;\n",
       "    }\n",
       "\n",
       "    .dataframe thead th {\n",
       "        text-align: right;\n",
       "    }\n",
       "</style>\n",
       "<table border=\"1\" class=\"dataframe\">\n",
       "  <thead>\n",
       "    <tr style=\"text-align: right;\">\n",
       "      <th></th>\n",
       "      <th>customer_id</th>\n",
       "      <th>customer_unique_id</th>\n",
       "      <th>customer_zip_code_prefix</th>\n",
       "      <th>customer_city</th>\n",
       "      <th>customer_state</th>\n",
       "      <th>order_id</th>\n",
       "      <th>canceled</th>\n",
       "      <th>order_purchase_timestamp</th>\n",
       "      <th>order_delivering_time</th>\n",
       "      <th>delivering_late</th>\n",
       "      <th>product_id</th>\n",
       "      <th>price</th>\n",
       "      <th>freight_value</th>\n",
       "      <th>product_category_name_english</th>\n",
       "      <th>payment_sequential</th>\n",
       "      <th>payment_installments</th>\n",
       "      <th>payment_value</th>\n",
       "      <th>review_score</th>\n",
       "    </tr>\n",
       "  </thead>\n",
       "  <tbody>\n",
       "    <tr>\n",
       "      <th>0</th>\n",
       "      <td>06b8999e2fba1a1fbc88172c00ba8bc7</td>\n",
       "      <td>861eff4711a542e4b93843c6dd7febb0</td>\n",
       "      <td>14409</td>\n",
       "      <td>franca</td>\n",
       "      <td>SP</td>\n",
       "      <td>00e7ee1b050b8499577073aeb2a297a1</td>\n",
       "      <td>0</td>\n",
       "      <td>2017-05-16 15:05:35</td>\n",
       "      <td>8 days 19:30:00</td>\n",
       "      <td>-11 days +10:35:35</td>\n",
       "      <td>a9516a079e37a9c9c36b9b78b10169e8</td>\n",
       "      <td>124.99</td>\n",
       "      <td>21.88</td>\n",
       "      <td>office_furniture</td>\n",
       "      <td>1.0</td>\n",
       "      <td>2.0</td>\n",
       "      <td>146.87</td>\n",
       "      <td>4.0</td>\n",
       "    </tr>\n",
       "    <tr>\n",
       "      <th>1</th>\n",
       "      <td>18955e83d337fd6b2def6b18a428ac77</td>\n",
       "      <td>290c77bc529b7ac935b93aa66c333dc3</td>\n",
       "      <td>9790</td>\n",
       "      <td>sao bernardo do campo</td>\n",
       "      <td>SP</td>\n",
       "      <td>29150127e6685892b6eab3eec79f59c7</td>\n",
       "      <td>0</td>\n",
       "      <td>2018-01-12 20:48:24</td>\n",
       "      <td>16 days 15:52:55</td>\n",
       "      <td>-8 days +12:41:19</td>\n",
       "      <td>4aa6014eceb682077f9dc4bffebc05b0</td>\n",
       "      <td>289.00</td>\n",
       "      <td>46.48</td>\n",
       "      <td>housewares</td>\n",
       "      <td>1.0</td>\n",
       "      <td>8.0</td>\n",
       "      <td>335.48</td>\n",
       "      <td>5.0</td>\n",
       "    </tr>\n",
       "  </tbody>\n",
       "</table>\n",
       "</div>"
      ],
      "text/plain": [
       "                        customer_id                customer_unique_id  \\\n",
       "0  06b8999e2fba1a1fbc88172c00ba8bc7  861eff4711a542e4b93843c6dd7febb0   \n",
       "1  18955e83d337fd6b2def6b18a428ac77  290c77bc529b7ac935b93aa66c333dc3   \n",
       "\n",
       "   customer_zip_code_prefix          customer_city customer_state  \\\n",
       "0                     14409                 franca             SP   \n",
       "1                      9790  sao bernardo do campo             SP   \n",
       "\n",
       "                           order_id  canceled order_purchase_timestamp  \\\n",
       "0  00e7ee1b050b8499577073aeb2a297a1         0      2017-05-16 15:05:35   \n",
       "1  29150127e6685892b6eab3eec79f59c7         0      2018-01-12 20:48:24   \n",
       "\n",
       "  order_delivering_time    delivering_late                        product_id  \\\n",
       "0       8 days 19:30:00 -11 days +10:35:35  a9516a079e37a9c9c36b9b78b10169e8   \n",
       "1      16 days 15:52:55  -8 days +12:41:19  4aa6014eceb682077f9dc4bffebc05b0   \n",
       "\n",
       "    price  freight_value product_category_name_english  payment_sequential  \\\n",
       "0  124.99          21.88              office_furniture                 1.0   \n",
       "1  289.00          46.48                    housewares                 1.0   \n",
       "\n",
       "   payment_installments  payment_value  review_score  \n",
       "0                   2.0         146.87           4.0  \n",
       "1                   8.0         335.48           5.0  "
      ]
     },
     "execution_count": 42,
     "metadata": {},
     "output_type": "execute_result"
    }
   ],
   "source": [
    "# Aperçu :\n",
    "data.head(2)"
   ]
  },
  {
   "cell_type": "markdown",
   "id": "0c518972",
   "metadata": {},
   "source": [
    "#### 2) Commentaire :"
   ]
  },
  {
   "cell_type": "raw",
   "id": "4aaf2e63",
   "metadata": {},
   "source": [
    "Nous avons réuni les informations qui nous semblaient pertinentes dans chacun des 9 fichiers en un seul dataframe. Cependant, ce dataframe est encore loin d'être utilisable : il nous reste encore à l'adapter complètement à notre problématique (c'est-à-dire segmenter les clients et à le nettoyer)."
   ]
  },
  {
   "cell_type": "markdown",
   "id": "a56befec",
   "metadata": {},
   "source": [
    "## II - SÉLECTION DE VARIABLES ET TRANSFORMATION DU DATAFRAME :"
   ]
  },
  {
   "cell_type": "markdown",
   "id": "b77397a7",
   "metadata": {},
   "source": [
    "### A - Suppression et transformation des variables :"
   ]
  },
  {
   "cell_type": "markdown",
   "id": "86c57e86",
   "metadata": {},
   "source": [
    "#### 1) Suppression de \"customer_id\" et \"product_id\" :"
   ]
  },
  {
   "cell_type": "markdown",
   "id": "43cda2f9",
   "metadata": {},
   "source": [
    "Les variables \"customer_id\" et \"order_id\" nous étaient précédemment indispensables pour réaliser nos jointures. Elles ne nous sont plus d'aucune utilité désormais, et nous allons donc les supprimer."
   ]
  },
  {
   "cell_type": "code",
   "execution_count": 43,
   "id": "7bd6400b",
   "metadata": {},
   "outputs": [],
   "source": [
    "# Suppression des variables \"customer_id\" et \"product_id\":\n",
    "data = data.drop(columns=[\"customer_id\",\"product_id\"])"
   ]
  },
  {
   "cell_type": "markdown",
   "id": "0f93b523",
   "metadata": {},
   "source": [
    "#### 2) Suppression de \"price\" et \"freight_value\" :"
   ]
  },
  {
   "cell_type": "raw",
   "id": "12bbcb43",
   "metadata": {},
   "source": [
    "On constate également que les variables \"price\" et \"freight_value\" doublonnent avec \"payment_value\". Les deux premières vont donc être supprimées."
   ]
  },
  {
   "cell_type": "code",
   "execution_count": 44,
   "id": "bb9a09d7",
   "metadata": {},
   "outputs": [],
   "source": [
    "# Suppression des variables \"price\" et \"freight_value\":\n",
    "data = data.drop(columns=[\"price\",\"freight_value\"])"
   ]
  },
  {
   "cell_type": "markdown",
   "id": "b295b68f",
   "metadata": {},
   "source": [
    "#### 3) Suppression de \"customer_city\" et \"customer_zip_code_prefix\" :"
   ]
  },
  {
   "cell_type": "raw",
   "id": "4bef3572",
   "metadata": {},
   "source": [
    "La variable \"customer_city\" recense pas moins de 4093 villes, quant à la variable \"customer_zip_code_prefix\", elle en recense 14907. Ces variables catégorielles seraient difficiles à traiter en aussi grand nombre, aussi, nous contenterons-nous d'utiliser comme référence géographique les États fédéraux des clients au nombre de 27."
   ]
  },
  {
   "cell_type": "code",
   "execution_count": 45,
   "id": "c9b47312",
   "metadata": {},
   "outputs": [],
   "source": [
    "# Suppression des variables \"customer_city\" et \"customer_zip_code_prefix\":\n",
    "data = data.drop(columns=[\"customer_city\",\"customer_zip_code_prefix\"])"
   ]
  },
  {
   "cell_type": "markdown",
   "id": "8019542f",
   "metadata": {},
   "source": [
    "#### 5 Transformation de \"customer_state\" :"
   ]
  },
  {
   "cell_type": "raw",
   "id": "c5a57bd3",
   "metadata": {},
   "source": [
    "Il a été repéré un problème de clients dupliqués du fait d'un changement d'adresse. Nous allons donc procéder à l'élimination des adresses les plus anciennes et donc, conserver les plus récentes. "
   ]
  },
  {
   "cell_type": "code",
   "execution_count": 46,
   "id": "f2d713e6",
   "metadata": {},
   "outputs": [],
   "source": [
    "# Préparation d'un dataframe d'information sur le dernier État de domiciliation connu :\n",
    "last_adress = data[[\"customer_unique_id\", \"order_purchase_timestamp\",\"customer_state\"]]\n",
    "last_adress = last_adress.sort_values(by=\"order_purchase_timestamp\", ascending=False)\n",
    "last_adress = last_adress.drop_duplicates(subset=\"customer_unique_id\", keep=\"first\")\n",
    "last_adress.drop(columns=[\"order_purchase_timestamp\"], inplace=True)"
   ]
  },
  {
   "cell_type": "code",
   "execution_count": 47,
   "id": "dcb4020d",
   "metadata": {},
   "outputs": [],
   "source": [
    "# Jointure avec le dataFrame principal :\n",
    "data.drop(columns=\"customer_state\", inplace=True)\n",
    "data = pd.merge(data, last_adress, on=\"customer_unique_id\")"
   ]
  },
  {
   "cell_type": "markdown",
   "id": "ebf426dc",
   "metadata": {},
   "source": [
    "#### 6) Transformation de \"product_category_name_english\" :"
   ]
  },
  {
   "cell_type": "raw",
   "id": "325403f2",
   "metadata": {},
   "source": [
    "La variable \"product_category_name_english\" qui recense le type de biens acheté est une variable très importante pour comprendre le comportement des clients. \n",
    "\n",
    "Cependant, il s'agit d'une variable qualitative qu'il faudra transformer en variable numérique. Or, elle compte pas moins de 73 valeurs ce qui risquerait, avec un encodage one hot, d'engendrer un fléau de dimensions. \n",
    "\n",
    "Nous allons donc devoir réduire ces valeurs en les regroupant dans des gammes de produits plus larges inspirées par le site de vente en ligne Amazon."
   ]
  },
  {
   "cell_type": "code",
   "execution_count": 48,
   "id": "bb1fd8d0",
   "metadata": {},
   "outputs": [],
   "source": [
    "# Regroupement des produits :\n",
    "data[\"product_category_name_english\"].replace({'office_furniture' : \"office_products\",\n",
    "                                               'housewares' : \"home_&_kitchen\",\n",
    "                                               'home_confort' : \"home_&_kitchen\",\n",
    "                                               'sports_leisure' : \"clothing_shoes_&_jewelry\",\n",
    "                                               'telephony' : \"electronics\",\n",
    "                                               'computers_accessories' : \"office_products\",\n",
    "                                               'toys' : \"toys_&_games\",\n",
    "                                               'furniture_decor' : \"home_&_kitchen\",\n",
    "                                               'auto' : \"supplies_&_tools\",\n",
    "                                               'air_conditioning' : \"home_&_kitchen\",\n",
    "                                               'health_beauty' : \"clothing_shoes_&_jewelry\",\n",
    "                                               'garden_tools' : \"home_&_kitchen\",\n",
    "                                               'pet_shop' : \"home_&_kitchen\",\n",
    "                                               'baby' : \"clothing_shoes_&_jewelry\",\n",
    "                                               'bed_bath_table' : \"home_&_kitchen\",\n",
    "                                               'watches_gifts' : \"electronics\",\n",
    "                                               'kitchen_dining_laundry_garden_furniture':\"home_&_kitchen\",\n",
    "                                               'perfumery' : \"clothing_shoes_&_jewelry\",\n",
    "                                               'art' : \"home_&_kitchen\",\n",
    "                                               'stationery' : \"office_products\",\n",
    "                                               'fashio_female_clothing' : \"clothing_shoes_&_jewelry\",\n",
    "                                               'fashion_male_clothing' : \"clothing_shoes_&_jewelry\",\n",
    "                                               'consoles_games' : \"toys_&_games\",\n",
    "                                               'construction_tools_lights' : \"supplies_&_tools\",\n",
    "                                               'food_drink' : \"grocery\",\n",
    "                                               'drinks' : \"grocery\",\n",
    "                                               'cool_stuff' : \"toys_&_games\",\n",
    "                                               'fashion_bags_accessories' : \"clothing_shoes_&_jewelry\",\n",
    "                                               'home_construction' : \"supplies_&_tools\",\n",
    "                                               'luggage_accessories' : \"clothing_shoes_&_jewelry\",\n",
    "                                               'electronics' : \"electronics\",\n",
    "                                               'home_appliances_2' : \"home_&_kitchen\",\n",
    "                                               'small_appliances' : \"home_&_kitchen\",\n",
    "                                               'small_appliances_home_oven_and_coffee' : \"home_&_kitchen\",\n",
    "                                               'books_general_interest' : \"culture\",\n",
    "                                               'home_appliances' : \"home_&_kitchen\",\n",
    "                                               'costruction_tools_tools' : \"supplies_&_tools\",\n",
    "                                               'signaling_and_security' : \"supplies_&_tools\",\n",
    "                                               'musical_instruments' : \"culture\",\n",
    "                                               'construction_tools_construction' : \"supplies_&_tools\",\n",
    "                                               'music' : \"culture\",\n",
    "                                               'books_imported' : \"culture\",\n",
    "                                               'fashion_shoes' : \"clothing_shoes_&_jewelry\",\n",
    "                                               'industry_commerce_and_business' : \"office_products\",\n",
    "                                               'fashion_underwear_beach' : \"clothing_shoes_&_jewelry\",\n",
    "                                               'dvds_blu_ray' : \"culture\",\n",
    "                                               'construction_tools_safety' : \"supplies_&_tools\",\n",
    "                                               'food' : \"grocery\",\n",
    "                                               'fixed_telephony' : \"electronics\",\n",
    "                                               'furniture_living_room' : \"home_&_kitchen\",\n",
    "                                               'tablets_printing_image' : \"office_products\",\n",
    "                                               'market_place' : \"home_&_kitchen\",\n",
    "                                               'christmas_supplies' : \"toys_&_games\",\n",
    "                                               'agro_industry_and_commerce' : \"grocery\",\n",
    "                                               'costruction_tools_garden' : \"supplies_&_tools\",\n",
    "                                               'computers' : \"electronics\",\n",
    "                                               'furniture_bedroom' : \"home_&_kitchen\",\n",
    "                                               'audio' : \"culture\",\n",
    "                                               'books_technical' : \"culture\",\n",
    "                                               'party_supplies' : \"home_&_kitchen\",\n",
    "                                               'cine_photo' : \"home_&_kitchen\",\n",
    "                                               'furniture_mattress_and_upholstery' : \"supplies_&_tools\",\n",
    "                                               'la_cuisine' : \"home_&_kitchen\",\n",
    "                                               'flowers' : \"home_&_kitchen\",\n",
    "                                               'diapers_and_hygiene' : \"grocery\",\n",
    "                                               'cds_dvds_musicals' : \"culture\",\n",
    "                                               'fashion_sport' : \"clothing_shoes_&_jewelry\",\n",
    "                                               'home_comfort_2' : \"home_&_kitchen\",\n",
    "                                               'arts_and_craftmanship' : \"home_&_kitchen\",\n",
    "                                               'fashion_childrens_clothes' : \"clothing_shoes_&_jewelry\",\n",
    "                                               'security_and_services' : \"electronics\",\n",
    "                                               'pc_gamer' : \"electronics\",\n",
    "                                               'take_away_food' : \"grocery\"}, inplace=True)"
   ]
  },
  {
   "cell_type": "markdown",
   "id": "dc501d63",
   "metadata": {},
   "source": [
    "#### 7) Création des variables nbr_orders et nbr_products :"
   ]
  },
  {
   "cell_type": "code",
   "execution_count": 49,
   "id": "cc8c8bea",
   "metadata": {},
   "outputs": [],
   "source": [
    "# Création des variables :\n",
    "nbr_products = data[[\"order_id\",\"customer_state\"]].groupby(\"order_id\").count().sort_values(by=\"customer_state\", ascending=False)\n",
    "nbr_products.rename(columns={\"customer_state\" : \"nbr_products\"}, inplace=True)\n",
    "nbr_orders = data[[\"customer_unique_id\",\"order_id\"]].groupby(\"customer_unique_id\").count().sort_values(by=\"order_id\", ascending=False)\n",
    "nbr_orders.rename(columns={\"order_id\" : \"nbr_orders\"}, inplace=True)"
   ]
  },
  {
   "cell_type": "code",
   "execution_count": 50,
   "id": "f4520174",
   "metadata": {},
   "outputs": [],
   "source": [
    "# Jointure des variables :\n",
    "data = pd.merge(data, nbr_products, on=\"order_id\")\n",
    "data = pd.merge(data, nbr_orders, on=\"customer_unique_id\")"
   ]
  },
  {
   "cell_type": "markdown",
   "id": "f9264a00",
   "metadata": {},
   "source": [
    "#### 8) Suppression de \"order_in\" :"
   ]
  },
  {
   "cell_type": "code",
   "execution_count": 51,
   "id": "89917dda",
   "metadata": {},
   "outputs": [],
   "source": [
    "# Suppression de \"order_in\" :\n",
    "data.drop(columns=\"order_id\", inplace=True)"
   ]
  },
  {
   "cell_type": "markdown",
   "id": "5d025353",
   "metadata": {},
   "source": [
    "### B) Ajout des variables RFM :"
   ]
  },
  {
   "cell_type": "raw",
   "id": "f276d9a0",
   "metadata": {},
   "source": [
    "La méthode RFM (Récence, Fréquence, et Montant) permet, en complément d'autres variables d'établir une segmentation efficace d'une clientèle de e-commerce. Nous allons donc transformer certaines de données pour les adapter à cette méthode."
   ]
  },
  {
   "cell_type": "markdown",
   "id": "330b1605",
   "metadata": {},
   "source": [
    "#### 1) Récence :"
   ]
  },
  {
   "cell_type": "code",
   "execution_count": 52,
   "id": "82ee0037",
   "metadata": {},
   "outputs": [],
   "source": [
    "# Récence\n",
    "recency = data[\"order_purchase_timestamp\"].max() - data.groupby(\"customer_unique_id\")[\"order_purchase_timestamp\"].max()\n",
    "recency = recency + pd.Timedelta(1, \"D\")\n",
    "data = pd.merge(data, recency, on=\"customer_unique_id\")\n",
    "data.rename(columns={\"order_purchase_timestamp_y\" : \"recency\"}, inplace=True)\n",
    "data.rename(columns={\"order_purchase_timestamp_x\" : \"order_purchase_timestamp\"}, inplace=True)"
   ]
  },
  {
   "cell_type": "markdown",
   "id": "7f968c67",
   "metadata": {},
   "source": [
    "#### 2) Fréquence :"
   ]
  },
  {
   "cell_type": "code",
   "execution_count": 53,
   "id": "e77cbb8c",
   "metadata": {},
   "outputs": [],
   "source": [
    "# Période d'activité :\n",
    "activity = data[\"order_purchase_timestamp\"].max() - data.groupby(\"customer_unique_id\")[\"order_purchase_timestamp\"].min()\n",
    "activity = activity + pd.Timedelta(1, \"D\")\n",
    "data = pd.merge(data, activity, on=\"customer_unique_id\")\n",
    "data.rename(columns={\"order_purchase_timestamp_y\" : \"activity_period\"}, inplace=True)\n",
    "data.rename(columns={\"order_purchase_timestamp_x\" : \"order_purchase_timestamp\"}, inplace=True)"
   ]
  },
  {
   "cell_type": "code",
   "execution_count": 54,
   "id": "e19af7ea",
   "metadata": {},
   "outputs": [],
   "source": [
    "# Fréquence d'achat\n",
    "data[\"frequency\"] = (data[\"activity_period\"]/data[\"nbr_orders\"])\n",
    "data[\"frequency\"] = (data[\"frequency\"].astype(\"timedelta64[D]\"))/365"
   ]
  },
  {
   "cell_type": "markdown",
   "id": "df2d8742",
   "metadata": {},
   "source": [
    "#### 3) Montant :"
   ]
  },
  {
   "cell_type": "code",
   "execution_count": 55,
   "id": "0694c515",
   "metadata": {},
   "outputs": [],
   "source": [
    "# Montant des dépenses :\n",
    "monetary_value = data.groupby(\"customer_unique_id\")[\"payment_value\"].mean()\n",
    "data = pd.merge(data, monetary_value, on=\"customer_unique_id\")\n",
    "data = data.drop(columns=\"payment_value_x\")\n",
    "data.rename(columns={\"payment_value_y\" : \"monetary_value\"}, inplace=True)"
   ]
  },
  {
   "cell_type": "markdown",
   "id": "fc85697a",
   "metadata": {},
   "source": [
    "#### 4) Suppression des objets :"
   ]
  },
  {
   "cell_type": "code",
   "execution_count": 56,
   "id": "1561dd88",
   "metadata": {},
   "outputs": [],
   "source": [
    "# Suppression des objets :\n",
    "del(recency, activity, nbr_orders, monetary_value)"
   ]
  },
  {
   "cell_type": "markdown",
   "id": "56fb8751",
   "metadata": {},
   "source": [
    "### C) Suppression des duplicats clients :"
   ]
  },
  {
   "cell_type": "markdown",
   "id": "c0ad2bef",
   "metadata": {},
   "source": [
    "#### 0) Commentaire :"
   ]
  },
  {
   "cell_type": "code",
   "execution_count": 57,
   "id": "cf5ed40b",
   "metadata": {},
   "outputs": [
    {
     "data": {
      "text/html": [
       "<div>\n",
       "<style scoped>\n",
       "    .dataframe tbody tr th:only-of-type {\n",
       "        vertical-align: middle;\n",
       "    }\n",
       "\n",
       "    .dataframe tbody tr th {\n",
       "        vertical-align: top;\n",
       "    }\n",
       "\n",
       "    .dataframe thead th {\n",
       "        text-align: right;\n",
       "    }\n",
       "</style>\n",
       "<table border=\"1\" class=\"dataframe\">\n",
       "  <thead>\n",
       "    <tr style=\"text-align: right;\">\n",
       "      <th></th>\n",
       "      <th>customer_unique_id</th>\n",
       "      <th>canceled</th>\n",
       "      <th>order_purchase_timestamp</th>\n",
       "      <th>order_delivering_time</th>\n",
       "      <th>delivering_late</th>\n",
       "      <th>product_category_name_english</th>\n",
       "      <th>payment_sequential</th>\n",
       "      <th>payment_installments</th>\n",
       "      <th>review_score</th>\n",
       "      <th>customer_state</th>\n",
       "      <th>nbr_products</th>\n",
       "      <th>nbr_orders</th>\n",
       "      <th>recency</th>\n",
       "      <th>activity_period</th>\n",
       "      <th>frequency</th>\n",
       "      <th>monetary_value</th>\n",
       "    </tr>\n",
       "  </thead>\n",
       "  <tbody>\n",
       "    <tr>\n",
       "      <th>5</th>\n",
       "      <td>4c93744516667ad3b8f1fb645a3116a4</td>\n",
       "      <td>0</td>\n",
       "      <td>2017-09-14 18:14:31</td>\n",
       "      <td>13 days 23:18:12</td>\n",
       "      <td>-6 days +17:32:43</td>\n",
       "      <td>clothing_shoes_&amp;_jewelry</td>\n",
       "      <td>1.0</td>\n",
       "      <td>1.0</td>\n",
       "      <td>5.0</td>\n",
       "      <td>SC</td>\n",
       "      <td>1</td>\n",
       "      <td>2</td>\n",
       "      <td>368 days 04:46:05</td>\n",
       "      <td>398 days 23:15:47</td>\n",
       "      <td>0.545205</td>\n",
       "      <td>282.94</td>\n",
       "    </tr>\n",
       "    <tr>\n",
       "      <th>6</th>\n",
       "      <td>4c93744516667ad3b8f1fb645a3116a4</td>\n",
       "      <td>0</td>\n",
       "      <td>2017-10-15 12:44:13</td>\n",
       "      <td>10 days 04:15:51</td>\n",
       "      <td>-14 days +17:00:04</td>\n",
       "      <td>electronics</td>\n",
       "      <td>1.0</td>\n",
       "      <td>1.0</td>\n",
       "      <td>5.0</td>\n",
       "      <td>SC</td>\n",
       "      <td>1</td>\n",
       "      <td>2</td>\n",
       "      <td>368 days 04:46:05</td>\n",
       "      <td>398 days 23:15:47</td>\n",
       "      <td>0.545205</td>\n",
       "      <td>282.94</td>\n",
       "    </tr>\n",
       "  </tbody>\n",
       "</table>\n",
       "</div>"
      ],
      "text/plain": [
       "                 customer_unique_id  canceled order_purchase_timestamp  \\\n",
       "5  4c93744516667ad3b8f1fb645a3116a4         0      2017-09-14 18:14:31   \n",
       "6  4c93744516667ad3b8f1fb645a3116a4         0      2017-10-15 12:44:13   \n",
       "\n",
       "  order_delivering_time    delivering_late product_category_name_english  \\\n",
       "5      13 days 23:18:12  -6 days +17:32:43      clothing_shoes_&_jewelry   \n",
       "6      10 days 04:15:51 -14 days +17:00:04                   electronics   \n",
       "\n",
       "   payment_sequential  payment_installments  review_score customer_state  \\\n",
       "5                 1.0                   1.0           5.0             SC   \n",
       "6                 1.0                   1.0           5.0             SC   \n",
       "\n",
       "   nbr_products  nbr_orders           recency   activity_period  frequency  \\\n",
       "5             1           2 368 days 04:46:05 398 days 23:15:47   0.545205   \n",
       "6             1           2 368 days 04:46:05 398 days 23:15:47   0.545205   \n",
       "\n",
       "   monetary_value  \n",
       "5          282.94  \n",
       "6          282.94  "
      ]
     },
     "execution_count": 57,
     "metadata": {},
     "output_type": "execute_result"
    }
   ],
   "source": [
    "# Aperçu d'un client dupliqué :\n",
    "data[data[\"customer_unique_id\"].duplicated(keep=False)].head(2)"
   ]
  },
  {
   "cell_type": "raw",
   "id": "174c9222",
   "metadata": {},
   "source": [
    "Nos clients ont été dupliqués du fait de commandes différentes. Or, pour segmenter correctement nos clients, nous avons besoin d'individus uniques. Comme nous pouvons le voir dans l'aperçu ci-dessus, il nous faudra :\n",
    "\n",
    "1 - Supprimer \"order_purchase_timestamp\" qui correspond à la date d'une commande. Les informations qu'elles nous importaient ont de toute manière été récupérées par les variables RFM.\n",
    "\n",
    "2 - Convertir en moyenne les valeurs des variables \"order_delivering_time\", \"delivering_late\", \"order_nbr_items, \"payment_sequential\", \"payment_installments\", \"review_score\".\n",
    "\n",
    "3 - Encoder la variable \"product_category_name_english\" par un one hot encoder.\n",
    "\n",
    "4 - Grouper le résultat de cet encodage par somme, et faire de même pour la variable (\"canceled\").\n",
    "\n",
    "5 - À la fin, les identifiants clients dupliqués devraient afficher des lignes de variables entièrement identiques que nous n'aurons plus qu'à supprimer."
   ]
  },
  {
   "cell_type": "markdown",
   "id": "0a77dac0",
   "metadata": {},
   "source": [
    "#### 1) Suppression de la variable \"order_purchase_timestamp\" :"
   ]
  },
  {
   "cell_type": "code",
   "execution_count": 60,
   "id": "bc26ef28",
   "metadata": {},
   "outputs": [],
   "source": [
    "# Suppression de la variable \"order_purchase_timestamp\" :\n",
    "data = data.drop(columns=[\"order_purchase_timestamp\"])"
   ]
  },
  {
   "cell_type": "markdown",
   "id": "6a9790d9",
   "metadata": {},
   "source": [
    "#### 2) Conversion en moyennes des variables liées à des commandes uniques :"
   ]
  },
  {
   "cell_type": "code",
   "execution_count": 61,
   "id": "c9eb5e91",
   "metadata": {},
   "outputs": [],
   "source": [
    "# Conversion de \"order_delivering_time\" :\n",
    "average_delivering_time = data.groupby(\"customer_unique_id\")[\"order_delivering_time\"].mean()\n",
    "data = pd.merge(data, average_delivering_time, on=\"customer_unique_id\")\n",
    "data = data.drop(columns=\"order_delivering_time_x\")\n",
    "data.rename(columns={\"order_delivering_time_y\" : \"average_delivering_time\"}, inplace=True)"
   ]
  },
  {
   "cell_type": "code",
   "execution_count": 62,
   "id": "20ea8df3",
   "metadata": {},
   "outputs": [],
   "source": [
    "# Conversion de \"delivering_late\" :\n",
    "average_late = data.groupby(\"customer_unique_id\")[\"delivering_late\"].mean()\n",
    "data = pd.merge(data, average_late, on=\"customer_unique_id\")\n",
    "data = data.drop(columns=\"delivering_late_x\")\n",
    "data.rename(columns={\"delivering_late_y\" : \"average_late\"}, inplace=True)"
   ]
  },
  {
   "cell_type": "code",
   "execution_count": 63,
   "id": "c1e9f220",
   "metadata": {},
   "outputs": [],
   "source": [
    "# Conversion de \"nbr_products\" :\n",
    "average_cart = data.groupby(\"customer_unique_id\")[\"nbr_products\"].mean()\n",
    "data = pd.merge(data, average_cart, on=\"customer_unique_id\")\n",
    "data = data.drop(columns=\"nbr_products_x\")\n",
    "data.rename(columns={\"nbr_products_y\" : \"average_cart\"}, inplace=True)"
   ]
  },
  {
   "cell_type": "code",
   "execution_count": 64,
   "id": "d0aec21b",
   "metadata": {},
   "outputs": [],
   "source": [
    "# Conversion de \"payment_sequential\" :\n",
    "average_voucher = data.groupby(\"customer_unique_id\")[\"payment_sequential\"].mean()\n",
    "data = pd.merge(data, average_voucher, on=\"customer_unique_id\")\n",
    "data = data.drop(columns=\"payment_sequential_x\")\n",
    "data.rename(columns={\"payment_sequential_y\" : \"average_voucher\"}, inplace=True)\n",
    "\n",
    "# On retire 1 car l'une des séquences décomptées correspond au payement effectif :\n",
    "data[\"average_voucher\"] = data[\"average_voucher\"] - 1"
   ]
  },
  {
   "cell_type": "code",
   "execution_count": 65,
   "id": "fec7311b",
   "metadata": {},
   "outputs": [],
   "source": [
    "# Conversion de \"payment_installments\" :\n",
    "average_installments = data.groupby(\"customer_unique_id\")[\"payment_installments\"].mean()\n",
    "data = pd.merge(data, average_installments, on=\"customer_unique_id\")\n",
    "data = data.drop(columns=\"payment_installments_x\")\n",
    "data.rename(columns={\"payment_installments_y\" : \"average_installments\"}, inplace=True)"
   ]
  },
  {
   "cell_type": "code",
   "execution_count": 66,
   "id": "22800dc4",
   "metadata": {},
   "outputs": [],
   "source": [
    "# Conversion de \"review_score\" :\n",
    "average_review = data.groupby(\"customer_unique_id\")[\"review_score\"].mean()\n",
    "data = pd.merge(data, average_review, on=\"customer_unique_id\")\n",
    "data = data.drop(columns=\"review_score_x\")\n",
    "data.rename(columns={\"review_score_y\" : \"average_review\"}, inplace=True)"
   ]
  },
  {
   "cell_type": "markdown",
   "id": "3dbf8543",
   "metadata": {},
   "source": [
    "#### 3) Encodage de la variable \"product_category_name_english\" :"
   ]
  },
  {
   "cell_type": "code",
   "execution_count": 67,
   "id": "89ed12e5",
   "metadata": {},
   "outputs": [],
   "source": [
    "# Encodage\n",
    "datachi2 = data.copy()\n",
    "transformer = OneHotEncoder(sparse=False)\n",
    "products = pd.DataFrame(transformer.fit_transform(pd.DataFrame(data[\"product_category_name_english\"])))\n",
    "feature_names = transformer.get_feature_names_out()\n",
    "products = products.astype(\"int\")\n",
    "products.columns = feature_names\n",
    "products.rename(columns={\"product_category_name_english_clothing_shoes_&_jewelry\" : \"clothing_shoes_&_jewelry\",\n",
    "                         \"product_category_name_english_culture\" : \"culture\",\n",
    "                         \"product_category_name_english_electronics\" : \"electronics\",\n",
    "                         \"product_category_name_english_grocery\" : \"grocery\",\n",
    "                         \"product_category_name_english_home_&_kitchen\" : \"home_&_kitchen\",\n",
    "                         \"product_category_name_english_office_products\" : \"office\",\n",
    "                         \"product_category_name_english_supplies_&_tools\" : \"supplies_&_tools\",\n",
    "                         \"product_category_name_english_toys_&_games\" : \"toys_&_games\",\n",
    "                         \"product_category_name_english_nan\" : \"unknown_product\"}, inplace=True)"
   ]
  },
  {
   "cell_type": "code",
   "execution_count": 68,
   "id": "666c3971",
   "metadata": {
    "scrolled": false
   },
   "outputs": [],
   "source": [
    "# Jointure :\n",
    "data.drop(columns=[\"product_category_name_english\"], inplace=True)\n",
    "data = data.join(products)"
   ]
  },
  {
   "cell_type": "markdown",
   "id": "6f0429bf",
   "metadata": {},
   "source": [
    "#### 4) Grouper les valeurs des catégories de produits encodés et de la variable \"canceled\" :"
   ]
  },
  {
   "cell_type": "code",
   "execution_count": 69,
   "id": "3acc3282",
   "metadata": {},
   "outputs": [],
   "source": [
    "# Définitions\n",
    "canceled = data.groupby(\"customer_unique_id\")[\"canceled\"].sum()\n",
    "csj = data.groupby(\"customer_unique_id\")[\"clothing_shoes_&_jewelry\"].sum()\n",
    "culture = data.groupby(\"customer_unique_id\")[\"culture\"].sum()\n",
    "electronics = data.groupby(\"customer_unique_id\")[\"electronics\"].sum()\n",
    "grocery = data.groupby(\"customer_unique_id\")[\"grocery\"].sum()\n",
    "hk = data.groupby(\"customer_unique_id\")[\"home_&_kitchen\"].sum()\n",
    "office = data.groupby(\"customer_unique_id\")[\"office\"].sum()\n",
    "st = data.groupby(\"customer_unique_id\")[\"supplies_&_tools\"].sum()\n",
    "tg = data.groupby(\"customer_unique_id\")[\"toys_&_games\"].sum()\n",
    "unknown = data.groupby(\"customer_unique_id\")[\"unknown_product\"].sum()"
   ]
  },
  {
   "cell_type": "code",
   "execution_count": 70,
   "id": "f8409e66",
   "metadata": {},
   "outputs": [],
   "source": [
    "# Suppression des anciennes variables :\n",
    "data.drop(columns=[\"canceled\",\"clothing_shoes_&_jewelry\",\"culture\",\"electronics\",\n",
    "                   \"grocery\",\"home_&_kitchen\",\"office\",\"supplies_&_tools\",\n",
    "                   \"toys_&_games\",\"unknown_product\"], inplace=True)"
   ]
  },
  {
   "cell_type": "code",
   "execution_count": 71,
   "id": "3cda9328",
   "metadata": {},
   "outputs": [],
   "source": [
    "# Jointure des variables cumulatives :\n",
    "data = pd.merge(data, canceled, on=\"customer_unique_id\")\n",
    "data = pd.merge(data, csj, on=\"customer_unique_id\")\n",
    "data = pd.merge(data, culture, on=\"customer_unique_id\")\n",
    "data = pd.merge(data, electronics, on=\"customer_unique_id\")\n",
    "data = pd.merge(data, grocery, on=\"customer_unique_id\")\n",
    "data = pd.merge(data, hk, on=\"customer_unique_id\")\n",
    "data = pd.merge(data, office, on=\"customer_unique_id\")\n",
    "data = pd.merge(data, st, on=\"customer_unique_id\")\n",
    "data = pd.merge(data, tg, on=\"customer_unique_id\")\n",
    "data = pd.merge(data, unknown, on=\"customer_unique_id\")"
   ]
  },
  {
   "cell_type": "markdown",
   "id": "67bf48b5",
   "metadata": {},
   "source": [
    "#### 5 Suppression des duplicats :"
   ]
  },
  {
   "cell_type": "code",
   "execution_count": 73,
   "id": "77c2903b",
   "metadata": {},
   "outputs": [],
   "source": [
    "# Suppression des duplicats\n",
    "data.drop_duplicates(inplace=True)"
   ]
  },
  {
   "cell_type": "code",
   "execution_count": 67,
   "id": "680d8371",
   "metadata": {},
   "outputs": [
    {
     "data": {
      "text/html": [
       "<div>\n",
       "<style scoped>\n",
       "    .dataframe tbody tr th:only-of-type {\n",
       "        vertical-align: middle;\n",
       "    }\n",
       "\n",
       "    .dataframe tbody tr th {\n",
       "        vertical-align: top;\n",
       "    }\n",
       "\n",
       "    .dataframe thead th {\n",
       "        text-align: right;\n",
       "    }\n",
       "</style>\n",
       "<table border=\"1\" class=\"dataframe\">\n",
       "  <thead>\n",
       "    <tr style=\"text-align: right;\">\n",
       "      <th></th>\n",
       "      <th>customer_unique_id</th>\n",
       "      <th>customer_state</th>\n",
       "      <th>nbr_orders</th>\n",
       "      <th>recency</th>\n",
       "      <th>activity_period</th>\n",
       "      <th>frequency</th>\n",
       "      <th>monetary_value</th>\n",
       "      <th>average_delivering_time</th>\n",
       "      <th>average_late</th>\n",
       "      <th>average_cart</th>\n",
       "      <th>average_voucher</th>\n",
       "      <th>average_installments</th>\n",
       "      <th>average_review</th>\n",
       "      <th>canceled</th>\n",
       "      <th>clothing_shoes_&amp;_jewelry</th>\n",
       "      <th>culture</th>\n",
       "      <th>electronics</th>\n",
       "      <th>grocery</th>\n",
       "      <th>home_&amp;_kitchen</th>\n",
       "      <th>office</th>\n",
       "      <th>supplies_&amp;_tools</th>\n",
       "      <th>toys_&amp;_games</th>\n",
       "      <th>unknown_product</th>\n",
       "    </tr>\n",
       "  </thead>\n",
       "  <tbody>\n",
       "  </tbody>\n",
       "</table>\n",
       "</div>"
      ],
      "text/plain": [
       "Empty DataFrame\n",
       "Columns: [customer_unique_id, customer_state, nbr_orders, recency, activity_period, frequency, monetary_value, average_delivering_time, average_late, average_cart, average_voucher, average_installments, average_review, canceled, clothing_shoes_&_jewelry, culture, electronics, grocery, home_&_kitchen, office, supplies_&_tools, toys_&_games, unknown_product]\n",
       "Index: []"
      ]
     },
     "execution_count": 67,
     "metadata": {},
     "output_type": "execute_result"
    }
   ],
   "source": [
    "# Vérification :\n",
    "data[data[\"customer_unique_id\"].duplicated(False)]"
   ]
  },
  {
   "cell_type": "code",
   "execution_count": 68,
   "id": "1d5901fa",
   "metadata": {},
   "outputs": [
    {
     "data": {
      "text/plain": [
       "96096"
      ]
     },
     "execution_count": 68,
     "metadata": {},
     "output_type": "execute_result"
    }
   ],
   "source": [
    "# Vérification du nombre de clients uniques :\n",
    "data[\"customer_unique_id\"].count()"
   ]
  },
  {
   "cell_type": "raw",
   "id": "d607ad08",
   "metadata": {},
   "source": [
    "Nous retombons sur nos 96096 clients uniques du départ. Manifestement, la transformation du DataFrame s'est bien déroulée."
   ]
  },
  {
   "cell_type": "markdown",
   "id": "9ddec5cc",
   "metadata": {},
   "source": [
    "## III - NETTOYAGE :"
   ]
  },
  {
   "cell_type": "markdown",
   "id": "0ee964b1",
   "metadata": {},
   "source": [
    "### A - Traitement des valeurs manquantes :"
   ]
  },
  {
   "cell_type": "markdown",
   "id": "9339e3ef",
   "metadata": {},
   "source": [
    "#### 1) Mesure des valeurs manquantes :"
   ]
  },
  {
   "cell_type": "code",
   "execution_count": 69,
   "id": "7c75edb0",
   "metadata": {},
   "outputs": [
    {
     "data": {
      "text/plain": [
       "customer_unique_id             0\n",
       "customer_state                 0\n",
       "nbr_orders                     0\n",
       "recency                        0\n",
       "activity_period                0\n",
       "frequency                      0\n",
       "monetary_value                 0\n",
       "average_delivering_time     2740\n",
       "average_late                2740\n",
       "average_cart                   0\n",
       "average_voucher                1\n",
       "average_installments           1\n",
       "average_review               716\n",
       "canceled                       0\n",
       "clothing_shoes_&_jewelry       0\n",
       "culture                        0\n",
       "electronics                    0\n",
       "grocery                        0\n",
       "home_&_kitchen                 0\n",
       "office                         0\n",
       "supplies_&_tools               0\n",
       "toys_&_games                   0\n",
       "unknown_product                0\n",
       "dtype: int64"
      ]
     },
     "execution_count": 69,
     "metadata": {},
     "output_type": "execute_result"
    }
   ],
   "source": [
    "# Nombre de valeurs manquantes par variables :\n",
    "data.isna().sum()"
   ]
  },
  {
   "cell_type": "code",
   "execution_count": 70,
   "id": "416fbb04",
   "metadata": {},
   "outputs": [
    {
     "data": {
      "text/plain": [
       "<AxesSubplot:>"
      ]
     },
     "execution_count": 70,
     "metadata": {},
     "output_type": "execute_result"
    },
    {
     "data": {
      "image/png": "[encoded data removed]",
      "text/plain": [
       "<Figure size 864x504 with 1 Axes>"
      ]
     },
     "metadata": {
      "needs_background": "light"
     },
     "output_type": "display_data"
    }
   ],
   "source": [
    "# Aperçu du volume d'informations manquantes :\n",
    "plt.figure(figsize=(12,7))\n",
    "sns.heatmap(data.isna(),cbar=False, cmap=\"coolwarm\", center=0.25)"
   ]
  },
  {
   "cell_type": "markdown",
   "id": "54041387",
   "metadata": {},
   "source": [
    "#### 2) Commentaires :"
   ]
  },
  {
   "cell_type": "raw",
   "id": "fd8b26b8",
   "metadata": {},
   "source": [
    "Il y a très peu de valeurs manquantes, et elles concernent des variables ayant assez peu d'importance. Pour l'instant, nous n'envisageons pas de les imputer."
   ]
  },
  {
   "cell_type": "markdown",
   "id": "32809be3",
   "metadata": {},
   "source": [
    "#### 3) Commandes annulées :"
   ]
  },
  {
   "cell_type": "raw",
   "id": "def2bb9b",
   "metadata": {},
   "source": [
    "616 clients ont annulé des commandes. Il se trouve qu'en conséquence, certains parmi eux n'ont concrètement réalisé aucun achat sur le site. Pouvons-nous réellement les considérer comme des clients ? À cette question, nous opterons pour une réponse négative et allons supprimer leurs entrées."
   ]
  },
  {
   "cell_type": "code",
   "execution_count": 71,
   "id": "0ad9a8e7",
   "metadata": {},
   "outputs": [],
   "source": [
    "# Suppression des clients qui ont annulé toutes leurs commandes :\n",
    "data = data[data[\"canceled\"]<data[\"average_cart\"]*data[\"nbr_orders\"]]"
   ]
  },
  {
   "cell_type": "markdown",
   "id": "e435e17a",
   "metadata": {},
   "source": [
    "### B - Typage :"
   ]
  },
  {
   "cell_type": "markdown",
   "id": "fc4fa07e",
   "metadata": {},
   "source": [
    "#### 1) Aperçu :"
   ]
  },
  {
   "cell_type": "code",
   "execution_count": 72,
   "id": "c28a5ef2",
   "metadata": {},
   "outputs": [
    {
     "data": {
      "text/plain": [
       "customer_unique_id                   object\n",
       "customer_state                       object\n",
       "nbr_orders                            int64\n",
       "recency                     timedelta64[ns]\n",
       "activity_period             timedelta64[ns]\n",
       "frequency                           float64\n",
       "monetary_value                      float64\n",
       "average_delivering_time     timedelta64[ns]\n",
       "average_late                timedelta64[ns]\n",
       "average_cart                        float64\n",
       "average_voucher                     float64\n",
       "average_installments                float64\n",
       "average_review                      float64\n",
       "canceled                              int32\n",
       "clothing_shoes_&_jewelry              int32\n",
       "culture                               int32\n",
       "electronics                           int32\n",
       "grocery                               int32\n",
       "home_&_kitchen                        int32\n",
       "office                                int32\n",
       "supplies_&_tools                      int32\n",
       "toys_&_games                          int32\n",
       "unknown_product                       int32\n",
       "dtype: object"
      ]
     },
     "execution_count": 72,
     "metadata": {},
     "output_type": "execute_result"
    }
   ],
   "source": [
    "# Types de variables :\n",
    "data.dtypes"
   ]
  },
  {
   "cell_type": "markdown",
   "id": "4cc99441",
   "metadata": {},
   "source": [
    "#### 2) Commentaires :"
   ]
  },
  {
   "cell_type": "raw",
   "id": "dce0b2c7",
   "metadata": {},
   "source": [
    "Il n'y a pas d'incohérences dans le typage de nos variables. "
   ]
  },
  {
   "cell_type": "markdown",
   "id": "96d7975b",
   "metadata": {},
   "source": [
    "### C - Vérification de la cohérence des variables :"
   ]
  },
  {
   "cell_type": "markdown",
   "id": "21fe5ef0",
   "metadata": {},
   "source": [
    "#### 1) customer_state :"
   ]
  },
  {
   "cell_type": "code",
   "execution_count": 73,
   "id": "0a8cc7c1",
   "metadata": {},
   "outputs": [
    {
     "data": {
      "text/plain": [
       "array(['SP', 'SC', 'MG', 'PR', 'RJ', 'RS', 'PA', 'GO', 'ES', 'BA', 'MA',\n",
       "       'MS', 'CE', 'DF', 'RN', 'PE', 'MT', 'AM', 'AP', 'AL', 'RO', 'PB',\n",
       "       'TO', 'PI', 'AC', 'SE', 'RR'], dtype=object)"
      ]
     },
     "execution_count": 73,
     "metadata": {},
     "output_type": "execute_result"
    }
   ],
   "source": [
    "# différentes valeurs de la variable :\n",
    "data[\"customer_state\"].unique()"
   ]
  },
  {
   "cell_type": "raw",
   "id": "2e42b22d",
   "metadata": {},
   "source": [
    "Toutes les valeurs de la variable \"customer_state\" (abréviations des États fédéraux brésiliens) semblent correctes sans doublons ni différences de format."
   ]
  },
  {
   "cell_type": "markdown",
   "id": "d77cdbf9",
   "metadata": {},
   "source": [
    "#### 2) recency :"
   ]
  },
  {
   "cell_type": "code",
   "execution_count": 74,
   "id": "18fc0e76",
   "metadata": {},
   "outputs": [
    {
     "data": {
      "text/plain": [
       "48440     1 days 21:14:16\n",
       "32322    14 days 22:34:49\n",
       "29073    17 days 02:00:09\n",
       "26317    22 days 08:50:03\n",
       "36450    23 days 05:31:00\n",
       "               ...       \n",
       "60597   744 days 19:24:15\n",
       "8683    744 days 20:16:42\n",
       "59529   745 days 00:33:28\n",
       "23474   763 days 05:13:40\n",
       "89328   773 days 20:14:59\n",
       "Name: recency, Length: 95563, dtype: timedelta64[ns]"
      ]
     },
     "execution_count": 74,
     "metadata": {},
     "output_type": "execute_result"
    }
   ],
   "source": [
    "# Classement des valeurs :\n",
    "data[\"recency\"].sort_values()"
   ]
  },
  {
   "cell_type": "raw",
   "id": "3974441c",
   "metadata": {},
   "source": [
    "Toutes les valeurs de récences semblent cohérentes. Nous allons simplement convertir les valeurs en nombre de jours."
   ]
  },
  {
   "cell_type": "code",
   "execution_count": 75,
   "id": "311f6181",
   "metadata": {},
   "outputs": [],
   "source": [
    "# Conversion\n",
    "data[\"recency\"]=pd.to_timedelta(data[\"recency\"]).dt.days"
   ]
  },
  {
   "cell_type": "markdown",
   "id": "1905da24",
   "metadata": {},
   "source": [
    "#### 3) activity_period :"
   ]
  },
  {
   "cell_type": "code",
   "execution_count": 76,
   "id": "5cfa35c6",
   "metadata": {},
   "outputs": [
    {
     "data": {
      "text/plain": [
       "71928    50 days 02:29:41\n",
       "54053    50 days 02:38:18\n",
       "569      50 days 03:11:50\n",
       "89236    50 days 03:11:55\n",
       "67006    50 days 05:04:19\n",
       "               ...       \n",
       "8683    744 days 20:16:42\n",
       "59529   745 days 00:33:28\n",
       "12389   745 days 07:45:28\n",
       "23474   763 days 05:13:40\n",
       "89328   773 days 20:14:59\n",
       "Name: activity_period, Length: 95563, dtype: timedelta64[ns]"
      ]
     },
     "execution_count": 76,
     "metadata": {},
     "output_type": "execute_result"
    }
   ],
   "source": [
    "# Classement des valeurs :\n",
    "data[\"activity_period\"].sort_values()"
   ]
  },
  {
   "cell_type": "raw",
   "id": "56c59d31",
   "metadata": {},
   "source": [
    "Toutes les valeurs de période d'activité (presque un indicateur de fidélité) semblent correctes. Nous allons simplement convertir les valeurs en nombre de jours."
   ]
  },
  {
   "cell_type": "code",
   "execution_count": 77,
   "id": "7bf4b70f",
   "metadata": {},
   "outputs": [],
   "source": [
    "# Conversion\n",
    "data[\"activity_period\"]=pd.to_timedelta(data[\"activity_period\"]).dt.days"
   ]
  },
  {
   "cell_type": "markdown",
   "id": "70389029",
   "metadata": {},
   "source": [
    "#### 4) nbr_orders :"
   ]
  },
  {
   "cell_type": "code",
   "execution_count": 78,
   "id": "776f051d",
   "metadata": {},
   "outputs": [
    {
     "data": {
      "image/png": "[encoded data removed]",
      "text/plain": [
       "<Figure size 432x288 with 1 Axes>"
      ]
     },
     "metadata": {
      "needs_background": "light"
     },
     "output_type": "display_data"
    }
   ],
   "source": [
    "# Visualisation de la distribution :\n",
    "plt.figure()\n",
    "sns.boxplot(x=data[\"nbr_orders\"])\n",
    "plt.show()"
   ]
  },
  {
   "cell_type": "raw",
   "id": "954c30c2",
   "metadata": {},
   "source": [
    "Nous avons un outlier a plus de 70 commandes. Il s'agit d'un client atypique plutôt qu'une valeur aberrante."
   ]
  },
  {
   "cell_type": "markdown",
   "id": "f1c81d7f",
   "metadata": {},
   "source": [
    "#### 6) frequency :"
   ]
  },
  {
   "cell_type": "code",
   "execution_count": 79,
   "id": "ee4ec81b",
   "metadata": {},
   "outputs": [
    {
     "data": {
      "text/plain": [
       "28808    0.021918\n",
       "85246    0.024658\n",
       "34831    0.024658\n",
       "94368    0.038356\n",
       "64844    0.038356\n",
       "           ...   \n",
       "60636    2.038356\n",
       "24222    2.038356\n",
       "97747    2.038356\n",
       "59529    2.041096\n",
       "23474    2.090411\n",
       "Name: frequency, Length: 95563, dtype: float64"
      ]
     },
     "execution_count": 79,
     "metadata": {},
     "output_type": "execute_result"
    }
   ],
   "source": [
    "# Classement des valeurs :\n",
    "data[\"frequency\"].sort_values()"
   ]
  },
  {
   "cell_type": "raw",
   "id": "60097623",
   "metadata": {},
   "source": [
    "Toutes les valeurs de fréquence d'achat semblent correctes."
   ]
  },
  {
   "cell_type": "markdown",
   "id": "8e45c51f",
   "metadata": {},
   "source": [
    "#### 7) monetary_value :"
   ]
  },
  {
   "cell_type": "code",
   "execution_count": 80,
   "id": "2d083a90",
   "metadata": {},
   "outputs": [
    {
     "data": {
      "image/png": "[encoded data removed]",
      "text/plain": [
       "<Figure size 432x288 with 1 Axes>"
      ]
     },
     "metadata": {
      "needs_background": "light"
     },
     "output_type": "display_data"
    }
   ],
   "source": [
    "# Visualisation de la distribution :\n",
    "plt.figure()\n",
    "sns.boxplot(x=data[\"monetary_value\"])\n",
    "plt.show()"
   ]
  },
  {
   "cell_type": "code",
   "execution_count": 81,
   "id": "1eee49a0",
   "metadata": {},
   "outputs": [
    {
     "data": {
      "text/html": [
       "<div>\n",
       "<style scoped>\n",
       "    .dataframe tbody tr th:only-of-type {\n",
       "        vertical-align: middle;\n",
       "    }\n",
       "\n",
       "    .dataframe tbody tr th {\n",
       "        vertical-align: top;\n",
       "    }\n",
       "\n",
       "    .dataframe thead th {\n",
       "        text-align: right;\n",
       "    }\n",
       "</style>\n",
       "<table border=\"1\" class=\"dataframe\">\n",
       "  <thead>\n",
       "    <tr style=\"text-align: right;\">\n",
       "      <th></th>\n",
       "      <th>customer_unique_id</th>\n",
       "      <th>customer_state</th>\n",
       "      <th>nbr_orders</th>\n",
       "      <th>recency</th>\n",
       "      <th>activity_period</th>\n",
       "      <th>frequency</th>\n",
       "      <th>monetary_value</th>\n",
       "      <th>average_delivering_time</th>\n",
       "      <th>average_late</th>\n",
       "      <th>average_cart</th>\n",
       "      <th>average_voucher</th>\n",
       "      <th>average_installments</th>\n",
       "      <th>average_review</th>\n",
       "      <th>canceled</th>\n",
       "      <th>clothing_shoes_&amp;_jewelry</th>\n",
       "      <th>culture</th>\n",
       "      <th>electronics</th>\n",
       "      <th>grocery</th>\n",
       "      <th>home_&amp;_kitchen</th>\n",
       "      <th>office</th>\n",
       "      <th>supplies_&amp;_tools</th>\n",
       "      <th>toys_&amp;_games</th>\n",
       "      <th>unknown_product</th>\n",
       "    </tr>\n",
       "  </thead>\n",
       "  <tbody>\n",
       "    <tr>\n",
       "      <th>6966</th>\n",
       "      <td>0a0a92112bd4c708ca5fde585afaa872</td>\n",
       "      <td>RJ</td>\n",
       "      <td>1</td>\n",
       "      <td>384</td>\n",
       "      <td>384</td>\n",
       "      <td>1.052055</td>\n",
       "      <td>13664.08</td>\n",
       "      <td>18 days 02:57:37</td>\n",
       "      <td>-6 days +18:22:29</td>\n",
       "      <td>1.0</td>\n",
       "      <td>0.0</td>\n",
       "      <td>1.0</td>\n",
       "      <td>1.0</td>\n",
       "      <td>0</td>\n",
       "      <td>0</td>\n",
       "      <td>0</td>\n",
       "      <td>1</td>\n",
       "      <td>0</td>\n",
       "      <td>0</td>\n",
       "      <td>0</td>\n",
       "      <td>0</td>\n",
       "      <td>0</td>\n",
       "      <td>0</td>\n",
       "    </tr>\n",
       "  </tbody>\n",
       "</table>\n",
       "</div>"
      ],
      "text/plain": [
       "                    customer_unique_id customer_state  nbr_orders  recency  \\\n",
       "6966  0a0a92112bd4c708ca5fde585afaa872             RJ           1      384   \n",
       "\n",
       "      activity_period  frequency  monetary_value average_delivering_time  \\\n",
       "6966              384   1.052055        13664.08        18 days 02:57:37   \n",
       "\n",
       "          average_late  average_cart  average_voucher  average_installments  \\\n",
       "6966 -6 days +18:22:29           1.0              0.0                   1.0   \n",
       "\n",
       "      average_review  canceled  clothing_shoes_&_jewelry  culture  \\\n",
       "6966             1.0         0                         0        0   \n",
       "\n",
       "      electronics  grocery  home_&_kitchen  office  supplies_&_tools  \\\n",
       "6966            1        0               0       0                 0   \n",
       "\n",
       "      toys_&_games  unknown_product  \n",
       "6966             0                0  "
      ]
     },
     "execution_count": 81,
     "metadata": {},
     "output_type": "execute_result"
    }
   ],
   "source": [
    "# Affichage de l'outlier :\n",
    "data[data[\"monetary_value\"]>12000]"
   ]
  },
  {
   "cell_type": "markdown",
   "id": "585be786",
   "metadata": {},
   "source": [
    "#### 8) average_delivering_time :"
   ]
  },
  {
   "cell_type": "code",
   "execution_count": 82,
   "id": "3fa116e5",
   "metadata": {},
   "outputs": [
    {
     "data": {
      "text/plain": [
       "55078     0 days 12:48:07\n",
       "75252     0 days 18:45:10\n",
       "17724     0 days 20:31:39\n",
       "20259     0 days 20:43:20\n",
       "16115     0 days 21:22:41\n",
       "               ...       \n",
       "24227   194 days 15:12:24\n",
       "76010   194 days 20:24:15\n",
       "4066    195 days 15:12:59\n",
       "75358   208 days 08:26:32\n",
       "30656   209 days 15:05:12\n",
       "Name: average_delivering_time, Length: 93351, dtype: timedelta64[ns]"
      ]
     },
     "execution_count": 82,
     "metadata": {},
     "output_type": "execute_result"
    }
   ],
   "source": [
    "# Classement des valeurs :\n",
    "data[\"average_delivering_time\"].dropna().sort_values()"
   ]
  },
  {
   "cell_type": "raw",
   "id": "647aea85",
   "metadata": {},
   "source": [
    "Toutes les valeurs de fréquence d'achat semblent correctes. Nous allons simplement convertir les valeurs en nombre de jours."
   ]
  },
  {
   "cell_type": "code",
   "execution_count": 83,
   "id": "73e8ca01",
   "metadata": {},
   "outputs": [],
   "source": [
    "# Conversion\n",
    "data[\"average_delivering_time\"]=pd.to_timedelta(data[\"average_delivering_time\"]).dt.days"
   ]
  },
  {
   "cell_type": "markdown",
   "id": "18a14ebc",
   "metadata": {},
   "source": [
    "#### 9) average_late :"
   ]
  },
  {
   "cell_type": "code",
   "execution_count": 84,
   "id": "b8755ffc",
   "metadata": {},
   "outputs": [
    {
     "data": {
      "text/plain": [
       "36592   -147 days +23:36:47\n",
       "32111   -140 days +14:27:45\n",
       "66978   -135 days +16:35:43\n",
       "29905   -109 days +13:49:07\n",
       "72482    -84 days +22:18:23\n",
       "                ...        \n",
       "24227     166 days 14:00:04\n",
       "57156     167 days 17:00:07\n",
       "73517     175 days 20:51:31\n",
       "30656     181 days 14:36:39\n",
       "75358     188 days 23:24:07\n",
       "Name: average_late, Length: 93351, dtype: timedelta64[ns]"
      ]
     },
     "execution_count": 84,
     "metadata": {},
     "output_type": "execute_result"
    }
   ],
   "source": [
    "# Classement des valeurs :\n",
    "data[\"average_late\"].dropna().sort_values()"
   ]
  },
  {
   "cell_type": "raw",
   "id": "71690db7",
   "metadata": {},
   "source": [
    "Les valeurs négatives correspondent à des livraisons en avance (parfois très en avance, mais après vérification, ces valeurs un peu surprenantes sont directement issues du dataset et non d'une erreur de transformation). Comme pour les autres valeurs d'intervalles temporels, nous allons convertir les valeurs en nombre jours."
   ]
  },
  {
   "cell_type": "code",
   "execution_count": 85,
   "id": "87dfba23",
   "metadata": {},
   "outputs": [],
   "source": [
    "# Conversion\n",
    "data[\"average_late\"]=pd.to_timedelta(data[\"average_late\"]).dt.days"
   ]
  },
  {
   "cell_type": "markdown",
   "id": "6e15e2fe",
   "metadata": {},
   "source": [
    "#### 10) average_cart :"
   ]
  },
  {
   "cell_type": "code",
   "execution_count": 86,
   "id": "b5a1518d",
   "metadata": {},
   "outputs": [
    {
     "data": {
      "image/png": "[encoded data removed]",
      "text/plain": [
       "<Figure size 432x288 with 1 Axes>"
      ]
     },
     "metadata": {
      "needs_background": "light"
     },
     "output_type": "display_data"
    }
   ],
   "source": [
    "# Visualisation de la distribution :\n",
    "plt.figure()\n",
    "sns.boxplot(x=data[\"average_cart\"])\n",
    "plt.show()"
   ]
  },
  {
   "cell_type": "code",
   "execution_count": 87,
   "id": "729e2e4e",
   "metadata": {},
   "outputs": [
    {
     "data": {
      "text/html": [
       "<div>\n",
       "<style scoped>\n",
       "    .dataframe tbody tr th:only-of-type {\n",
       "        vertical-align: middle;\n",
       "    }\n",
       "\n",
       "    .dataframe tbody tr th {\n",
       "        vertical-align: top;\n",
       "    }\n",
       "\n",
       "    .dataframe thead th {\n",
       "        text-align: right;\n",
       "    }\n",
       "</style>\n",
       "<table border=\"1\" class=\"dataframe\">\n",
       "  <thead>\n",
       "    <tr style=\"text-align: right;\">\n",
       "      <th></th>\n",
       "      <th>customer_unique_id</th>\n",
       "      <th>customer_state</th>\n",
       "      <th>nbr_orders</th>\n",
       "      <th>recency</th>\n",
       "      <th>activity_period</th>\n",
       "      <th>frequency</th>\n",
       "      <th>monetary_value</th>\n",
       "      <th>average_delivering_time</th>\n",
       "      <th>average_late</th>\n",
       "      <th>average_cart</th>\n",
       "      <th>average_voucher</th>\n",
       "      <th>average_installments</th>\n",
       "      <th>average_review</th>\n",
       "      <th>canceled</th>\n",
       "      <th>clothing_shoes_&amp;_jewelry</th>\n",
       "      <th>culture</th>\n",
       "      <th>electronics</th>\n",
       "      <th>grocery</th>\n",
       "      <th>home_&amp;_kitchen</th>\n",
       "      <th>office</th>\n",
       "      <th>supplies_&amp;_tools</th>\n",
       "      <th>toys_&amp;_games</th>\n",
       "      <th>unknown_product</th>\n",
       "    </tr>\n",
       "  </thead>\n",
       "  <tbody>\n",
       "  </tbody>\n",
       "</table>\n",
       "</div>"
      ],
      "text/plain": [
       "Empty DataFrame\n",
       "Columns: [customer_unique_id, customer_state, nbr_orders, recency, activity_period, frequency, monetary_value, average_delivering_time, average_late, average_cart, average_voucher, average_installments, average_review, canceled, clothing_shoes_&_jewelry, culture, electronics, grocery, home_&_kitchen, office, supplies_&_tools, toys_&_games, unknown_product]\n",
       "Index: []"
      ]
     },
     "execution_count": 87,
     "metadata": {},
     "output_type": "execute_result"
    }
   ],
   "source": [
    "# Affichage des outliers :\n",
    "data[data[\"average_cart\"]>15]"
   ]
  },
  {
   "cell_type": "raw",
   "id": "d38182be",
   "metadata": {},
   "source": [
    "Bien que les valeurs des outliers ne semblent pas aberrantes en soi, nous avons vérifié les trois premiers d'entre eux. Effectivement, leurs paniers relativement importants par rapport aux autres individus statistiques semblent finalement assez classiques (plusieurs objets de même type achetés en une fois). A priori, donc, aucun problème de valeurs aberrantes."
   ]
  },
  {
   "cell_type": "markdown",
   "id": "37968b31",
   "metadata": {},
   "source": [
    "#### 11) average_voucher :"
   ]
  },
  {
   "cell_type": "code",
   "execution_count": 88,
   "id": "e064c5e9",
   "metadata": {},
   "outputs": [
    {
     "data": {
      "image/png": "[encoded data removed]",
      "text/plain": [
       "<Figure size 432x288 with 1 Axes>"
      ]
     },
     "metadata": {
      "needs_background": "light"
     },
     "output_type": "display_data"
    }
   ],
   "source": [
    "# Visualisation de la distribution :\n",
    "plt.figure()\n",
    "sns.boxplot(x=data[\"average_voucher\"])\n",
    "plt.show()"
   ]
  },
  {
   "cell_type": "raw",
   "id": "787729c5",
   "metadata": {},
   "source": [
    "Comme pour la variable précédente, les outliers ne constituent pas des valeurs aberrantes (à peine des valeurs atypiques). Après étude de leur cas, les individus ont manifestement profité de plusieurs bons d'achat/points cadeaux et l'on utilisé en conséquence (quasiment autant de bons que de produits achetés ; ce qui semble indiquer que le cumul de ces bons n'est peut-être pas toujours possible et qu'un bon est autorisé par achat). "
   ]
  },
  {
   "cell_type": "markdown",
   "id": "df4ee3a8",
   "metadata": {},
   "source": [
    "#### 12) average_installments :"
   ]
  },
  {
   "cell_type": "code",
   "execution_count": 89,
   "id": "d94340fa",
   "metadata": {},
   "outputs": [
    {
     "data": {
      "image/png": "[encoded data removed]",
      "text/plain": [
       "<Figure size 432x288 with 1 Axes>"
      ]
     },
     "metadata": {
      "needs_background": "light"
     },
     "output_type": "display_data"
    }
   ],
   "source": [
    "# Visualisation de la distribution :\n",
    "plt.figure()\n",
    "sns.boxplot(x=data[\"average_installments\"])\n",
    "plt.show()"
   ]
  },
  {
   "cell_type": "raw",
   "id": "a9075bff",
   "metadata": {},
   "source": [
    "La distribution de la variable \"average_installments\" nous montre que l'échellonnement de paiement est assez commun. \n",
    "En revanche, deux valeurs aberrantes ont été repérées. Comme les achats en question ont été plus vraisemblablement payés en une fois, nous allons remplacer ces valeurs nulles par 1."
   ]
  },
  {
   "cell_type": "code",
   "execution_count": 90,
   "id": "fde67097",
   "metadata": {},
   "outputs": [],
   "source": [
    "# Remplacement des valeurs nulles par \"1\" :\n",
    "data[\"average_installments\"].replace(0,1, inplace=True)"
   ]
  },
  {
   "cell_type": "markdown",
   "id": "e0f0b441",
   "metadata": {},
   "source": [
    "#### 13) average_review :"
   ]
  },
  {
   "cell_type": "code",
   "execution_count": 91,
   "id": "1b789d28",
   "metadata": {},
   "outputs": [
    {
     "data": {
      "image/png": "[encoded data removed]",
      "text/plain": [
       "<Figure size 432x288 with 1 Axes>"
      ]
     },
     "metadata": {
      "needs_background": "light"
     },
     "output_type": "display_data"
    }
   ],
   "source": [
    "# Visualisation de la distribution :\n",
    "plt.figure()\n",
    "sns.boxplot(x=data[\"average_review\"])\n",
    "plt.show()"
   ]
  },
  {
   "cell_type": "raw",
   "id": "4583e0dc",
   "metadata": {},
   "source": [
    "Pas d'incongruité dans cette distribution qui nous montre, par ailleurs, que les clients sont généralement très satisfaits des services de l'entreprise. "
   ]
  },
  {
   "cell_type": "markdown",
   "id": "04957658",
   "metadata": {},
   "source": [
    "#### 14) canceled :"
   ]
  },
  {
   "cell_type": "code",
   "execution_count": 92,
   "id": "adb3d9d9",
   "metadata": {},
   "outputs": [
    {
     "data": {
      "image/png": "[encoded data removed]",
      "text/plain": [
       "<Figure size 432x288 with 1 Axes>"
      ]
     },
     "metadata": {
      "needs_background": "light"
     },
     "output_type": "display_data"
    }
   ],
   "source": [
    "# Visualisation de la distribution :\n",
    "plt.figure()\n",
    "sns.boxplot(x=data[\"canceled\"])\n",
    "plt.show()"
   ]
  },
  {
   "cell_type": "code",
   "execution_count": 93,
   "id": "2cd9d5e7",
   "metadata": {},
   "outputs": [
    {
     "data": {
      "text/html": [
       "<div>\n",
       "<style scoped>\n",
       "    .dataframe tbody tr th:only-of-type {\n",
       "        vertical-align: middle;\n",
       "    }\n",
       "\n",
       "    .dataframe tbody tr th {\n",
       "        vertical-align: top;\n",
       "    }\n",
       "\n",
       "    .dataframe thead th {\n",
       "        text-align: right;\n",
       "    }\n",
       "</style>\n",
       "<table border=\"1\" class=\"dataframe\">\n",
       "  <thead>\n",
       "    <tr style=\"text-align: right;\">\n",
       "      <th></th>\n",
       "      <th>customer_unique_id</th>\n",
       "      <th>customer_state</th>\n",
       "      <th>nbr_orders</th>\n",
       "      <th>recency</th>\n",
       "      <th>activity_period</th>\n",
       "      <th>frequency</th>\n",
       "      <th>monetary_value</th>\n",
       "      <th>average_delivering_time</th>\n",
       "      <th>average_late</th>\n",
       "      <th>average_cart</th>\n",
       "      <th>average_voucher</th>\n",
       "      <th>average_installments</th>\n",
       "      <th>average_review</th>\n",
       "      <th>canceled</th>\n",
       "      <th>clothing_shoes_&amp;_jewelry</th>\n",
       "      <th>culture</th>\n",
       "      <th>electronics</th>\n",
       "      <th>grocery</th>\n",
       "      <th>home_&amp;_kitchen</th>\n",
       "      <th>office</th>\n",
       "      <th>supplies_&amp;_tools</th>\n",
       "      <th>toys_&amp;_games</th>\n",
       "      <th>unknown_product</th>\n",
       "    </tr>\n",
       "  </thead>\n",
       "  <tbody>\n",
       "    <tr>\n",
       "      <th>7126</th>\n",
       "      <td>46450c74a0d8c5ca9395da1daac6c120</td>\n",
       "      <td>SC</td>\n",
       "      <td>3</td>\n",
       "      <td>61</td>\n",
       "      <td>85</td>\n",
       "      <td>0.076712</td>\n",
       "      <td>3184.340000</td>\n",
       "      <td>8.0</td>\n",
       "      <td>-19.0</td>\n",
       "      <td>1.000000</td>\n",
       "      <td>0.0</td>\n",
       "      <td>4.000000</td>\n",
       "      <td>1.000000</td>\n",
       "      <td>2</td>\n",
       "      <td>0</td>\n",
       "      <td>0</td>\n",
       "      <td>0</td>\n",
       "      <td>0</td>\n",
       "      <td>0</td>\n",
       "      <td>0</td>\n",
       "      <td>0</td>\n",
       "      <td>1</td>\n",
       "      <td>2</td>\n",
       "    </tr>\n",
       "    <tr>\n",
       "      <th>7806</th>\n",
       "      <td>abfe742e782fb10f5c824fcb849e5cd1</td>\n",
       "      <td>SP</td>\n",
       "      <td>6</td>\n",
       "      <td>426</td>\n",
       "      <td>426</td>\n",
       "      <td>0.194521</td>\n",
       "      <td>88.526667</td>\n",
       "      <td>14.0</td>\n",
       "      <td>-14.0</td>\n",
       "      <td>2.000000</td>\n",
       "      <td>0.0</td>\n",
       "      <td>8.000000</td>\n",
       "      <td>5.000000</td>\n",
       "      <td>2</td>\n",
       "      <td>0</td>\n",
       "      <td>0</td>\n",
       "      <td>0</td>\n",
       "      <td>0</td>\n",
       "      <td>4</td>\n",
       "      <td>0</td>\n",
       "      <td>0</td>\n",
       "      <td>0</td>\n",
       "      <td>2</td>\n",
       "    </tr>\n",
       "    <tr>\n",
       "      <th>14565</th>\n",
       "      <td>ff36be26206fffe1eb37afd54c70e18b</td>\n",
       "      <td>SP</td>\n",
       "      <td>3</td>\n",
       "      <td>56</td>\n",
       "      <td>82</td>\n",
       "      <td>0.073973</td>\n",
       "      <td>92.760000</td>\n",
       "      <td>NaN</td>\n",
       "      <td>NaN</td>\n",
       "      <td>1.000000</td>\n",
       "      <td>0.0</td>\n",
       "      <td>1.666667</td>\n",
       "      <td>3.000000</td>\n",
       "      <td>2</td>\n",
       "      <td>0</td>\n",
       "      <td>0</td>\n",
       "      <td>0</td>\n",
       "      <td>0</td>\n",
       "      <td>1</td>\n",
       "      <td>0</td>\n",
       "      <td>0</td>\n",
       "      <td>0</td>\n",
       "      <td>2</td>\n",
       "    </tr>\n",
       "    <tr>\n",
       "      <th>21310</th>\n",
       "      <td>01ea7dfdac01a4e8fbe2902b73510b20</td>\n",
       "      <td>RJ</td>\n",
       "      <td>3</td>\n",
       "      <td>250</td>\n",
       "      <td>250</td>\n",
       "      <td>0.227397</td>\n",
       "      <td>163.936667</td>\n",
       "      <td>13.0</td>\n",
       "      <td>-14.0</td>\n",
       "      <td>1.666667</td>\n",
       "      <td>0.0</td>\n",
       "      <td>5.000000</td>\n",
       "      <td>2.333333</td>\n",
       "      <td>2</td>\n",
       "      <td>0</td>\n",
       "      <td>0</td>\n",
       "      <td>0</td>\n",
       "      <td>0</td>\n",
       "      <td>2</td>\n",
       "      <td>1</td>\n",
       "      <td>0</td>\n",
       "      <td>0</td>\n",
       "      <td>0</td>\n",
       "    </tr>\n",
       "    <tr>\n",
       "      <th>26317</th>\n",
       "      <td>ba84da8c159659f116329563a0a981dd</td>\n",
       "      <td>RJ</td>\n",
       "      <td>3</td>\n",
       "      <td>22</td>\n",
       "      <td>53</td>\n",
       "      <td>0.046575</td>\n",
       "      <td>94.630000</td>\n",
       "      <td>4.0</td>\n",
       "      <td>-26.0</td>\n",
       "      <td>1.000000</td>\n",
       "      <td>0.0</td>\n",
       "      <td>1.000000</td>\n",
       "      <td>1.000000</td>\n",
       "      <td>2</td>\n",
       "      <td>0</td>\n",
       "      <td>0</td>\n",
       "      <td>0</td>\n",
       "      <td>0</td>\n",
       "      <td>0</td>\n",
       "      <td>1</td>\n",
       "      <td>0</td>\n",
       "      <td>0</td>\n",
       "      <td>2</td>\n",
       "    </tr>\n",
       "    <tr>\n",
       "      <th>32322</th>\n",
       "      <td>af5454198a97379394cacf676e1e96cb</td>\n",
       "      <td>SP</td>\n",
       "      <td>3</td>\n",
       "      <td>14</td>\n",
       "      <td>69</td>\n",
       "      <td>0.063014</td>\n",
       "      <td>197.550000</td>\n",
       "      <td>7.0</td>\n",
       "      <td>-5.0</td>\n",
       "      <td>1.000000</td>\n",
       "      <td>0.0</td>\n",
       "      <td>1.000000</td>\n",
       "      <td>1.000000</td>\n",
       "      <td>2</td>\n",
       "      <td>0</td>\n",
       "      <td>0</td>\n",
       "      <td>0</td>\n",
       "      <td>0</td>\n",
       "      <td>0</td>\n",
       "      <td>0</td>\n",
       "      <td>1</td>\n",
       "      <td>0</td>\n",
       "      <td>2</td>\n",
       "    </tr>\n",
       "    <tr>\n",
       "      <th>54026</th>\n",
       "      <td>cc14ea7099959d91a17c9d7c3a46721d</td>\n",
       "      <td>ES</td>\n",
       "      <td>7</td>\n",
       "      <td>517</td>\n",
       "      <td>524</td>\n",
       "      <td>0.202740</td>\n",
       "      <td>242.697143</td>\n",
       "      <td>13.0</td>\n",
       "      <td>-12.0</td>\n",
       "      <td>3.000000</td>\n",
       "      <td>0.0</td>\n",
       "      <td>5.285714</td>\n",
       "      <td>5.000000</td>\n",
       "      <td>4</td>\n",
       "      <td>0</td>\n",
       "      <td>0</td>\n",
       "      <td>0</td>\n",
       "      <td>0</td>\n",
       "      <td>0</td>\n",
       "      <td>0</td>\n",
       "      <td>7</td>\n",
       "      <td>0</td>\n",
       "      <td>0</td>\n",
       "    </tr>\n",
       "    <tr>\n",
       "      <th>54687</th>\n",
       "      <td>230a1e9f42924d41f37fd22a1d4a9707</td>\n",
       "      <td>SP</td>\n",
       "      <td>3</td>\n",
       "      <td>42</td>\n",
       "      <td>84</td>\n",
       "      <td>0.076712</td>\n",
       "      <td>69.460000</td>\n",
       "      <td>4.0</td>\n",
       "      <td>-10.0</td>\n",
       "      <td>1.000000</td>\n",
       "      <td>0.0</td>\n",
       "      <td>1.000000</td>\n",
       "      <td>5.000000</td>\n",
       "      <td>2</td>\n",
       "      <td>0</td>\n",
       "      <td>0</td>\n",
       "      <td>0</td>\n",
       "      <td>0</td>\n",
       "      <td>0</td>\n",
       "      <td>0</td>\n",
       "      <td>1</td>\n",
       "      <td>0</td>\n",
       "      <td>2</td>\n",
       "    </tr>\n",
       "    <tr>\n",
       "      <th>70942</th>\n",
       "      <td>e892e5924e6ce2d1b684a926b4f7e258</td>\n",
       "      <td>RS</td>\n",
       "      <td>2</td>\n",
       "      <td>575</td>\n",
       "      <td>575</td>\n",
       "      <td>0.786301</td>\n",
       "      <td>70.080000</td>\n",
       "      <td>NaN</td>\n",
       "      <td>NaN</td>\n",
       "      <td>2.000000</td>\n",
       "      <td>0.0</td>\n",
       "      <td>7.000000</td>\n",
       "      <td>1.000000</td>\n",
       "      <td>2</td>\n",
       "      <td>0</td>\n",
       "      <td>0</td>\n",
       "      <td>2</td>\n",
       "      <td>0</td>\n",
       "      <td>0</td>\n",
       "      <td>0</td>\n",
       "      <td>0</td>\n",
       "      <td>0</td>\n",
       "      <td>0</td>\n",
       "    </tr>\n",
       "    <tr>\n",
       "      <th>81729</th>\n",
       "      <td>2f96790fba243100730c8d1185dd2f25</td>\n",
       "      <td>SP</td>\n",
       "      <td>2</td>\n",
       "      <td>739</td>\n",
       "      <td>739</td>\n",
       "      <td>1.010959</td>\n",
       "      <td>140.220000</td>\n",
       "      <td>7.0</td>\n",
       "      <td>-45.0</td>\n",
       "      <td>2.000000</td>\n",
       "      <td>0.0</td>\n",
       "      <td>2.000000</td>\n",
       "      <td>5.000000</td>\n",
       "      <td>2</td>\n",
       "      <td>2</td>\n",
       "      <td>0</td>\n",
       "      <td>0</td>\n",
       "      <td>0</td>\n",
       "      <td>0</td>\n",
       "      <td>0</td>\n",
       "      <td>0</td>\n",
       "      <td>0</td>\n",
       "      <td>0</td>\n",
       "    </tr>\n",
       "    <tr>\n",
       "      <th>89644</th>\n",
       "      <td>5b8e2b1579f85b73591611c56267d7f7</td>\n",
       "      <td>SP</td>\n",
       "      <td>2</td>\n",
       "      <td>337</td>\n",
       "      <td>337</td>\n",
       "      <td>0.460274</td>\n",
       "      <td>258.000000</td>\n",
       "      <td>NaN</td>\n",
       "      <td>NaN</td>\n",
       "      <td>2.000000</td>\n",
       "      <td>0.0</td>\n",
       "      <td>8.000000</td>\n",
       "      <td>1.000000</td>\n",
       "      <td>2</td>\n",
       "      <td>0</td>\n",
       "      <td>0</td>\n",
       "      <td>0</td>\n",
       "      <td>0</td>\n",
       "      <td>2</td>\n",
       "      <td>0</td>\n",
       "      <td>0</td>\n",
       "      <td>0</td>\n",
       "      <td>0</td>\n",
       "    </tr>\n",
       "    <tr>\n",
       "      <th>92883</th>\n",
       "      <td>c4ebedb09beb89cc0314c5c0c33f8053</td>\n",
       "      <td>SP</td>\n",
       "      <td>3</td>\n",
       "      <td>264</td>\n",
       "      <td>264</td>\n",
       "      <td>0.241096</td>\n",
       "      <td>122.366667</td>\n",
       "      <td>33.0</td>\n",
       "      <td>-1.0</td>\n",
       "      <td>1.666667</td>\n",
       "      <td>0.0</td>\n",
       "      <td>4.000000</td>\n",
       "      <td>1.000000</td>\n",
       "      <td>2</td>\n",
       "      <td>0</td>\n",
       "      <td>0</td>\n",
       "      <td>0</td>\n",
       "      <td>0</td>\n",
       "      <td>2</td>\n",
       "      <td>1</td>\n",
       "      <td>0</td>\n",
       "      <td>0</td>\n",
       "      <td>0</td>\n",
       "    </tr>\n",
       "  </tbody>\n",
       "</table>\n",
       "</div>"
      ],
      "text/plain": [
       "                     customer_unique_id customer_state  nbr_orders  recency  \\\n",
       "7126   46450c74a0d8c5ca9395da1daac6c120             SC           3       61   \n",
       "7806   abfe742e782fb10f5c824fcb849e5cd1             SP           6      426   \n",
       "14565  ff36be26206fffe1eb37afd54c70e18b             SP           3       56   \n",
       "21310  01ea7dfdac01a4e8fbe2902b73510b20             RJ           3      250   \n",
       "26317  ba84da8c159659f116329563a0a981dd             RJ           3       22   \n",
       "32322  af5454198a97379394cacf676e1e96cb             SP           3       14   \n",
       "54026  cc14ea7099959d91a17c9d7c3a46721d             ES           7      517   \n",
       "54687  230a1e9f42924d41f37fd22a1d4a9707             SP           3       42   \n",
       "70942  e892e5924e6ce2d1b684a926b4f7e258             RS           2      575   \n",
       "81729  2f96790fba243100730c8d1185dd2f25             SP           2      739   \n",
       "89644  5b8e2b1579f85b73591611c56267d7f7             SP           2      337   \n",
       "92883  c4ebedb09beb89cc0314c5c0c33f8053             SP           3      264   \n",
       "\n",
       "       activity_period  frequency  monetary_value  average_delivering_time  \\\n",
       "7126                85   0.076712     3184.340000                      8.0   \n",
       "7806               426   0.194521       88.526667                     14.0   \n",
       "14565               82   0.073973       92.760000                      NaN   \n",
       "21310              250   0.227397      163.936667                     13.0   \n",
       "26317               53   0.046575       94.630000                      4.0   \n",
       "32322               69   0.063014      197.550000                      7.0   \n",
       "54026              524   0.202740      242.697143                     13.0   \n",
       "54687               84   0.076712       69.460000                      4.0   \n",
       "70942              575   0.786301       70.080000                      NaN   \n",
       "81729              739   1.010959      140.220000                      7.0   \n",
       "89644              337   0.460274      258.000000                      NaN   \n",
       "92883              264   0.241096      122.366667                     33.0   \n",
       "\n",
       "       average_late  average_cart  average_voucher  average_installments  \\\n",
       "7126          -19.0      1.000000              0.0              4.000000   \n",
       "7806          -14.0      2.000000              0.0              8.000000   \n",
       "14565           NaN      1.000000              0.0              1.666667   \n",
       "21310         -14.0      1.666667              0.0              5.000000   \n",
       "26317         -26.0      1.000000              0.0              1.000000   \n",
       "32322          -5.0      1.000000              0.0              1.000000   \n",
       "54026         -12.0      3.000000              0.0              5.285714   \n",
       "54687         -10.0      1.000000              0.0              1.000000   \n",
       "70942           NaN      2.000000              0.0              7.000000   \n",
       "81729         -45.0      2.000000              0.0              2.000000   \n",
       "89644           NaN      2.000000              0.0              8.000000   \n",
       "92883          -1.0      1.666667              0.0              4.000000   \n",
       "\n",
       "       average_review  canceled  clothing_shoes_&_jewelry  culture  \\\n",
       "7126         1.000000         2                         0        0   \n",
       "7806         5.000000         2                         0        0   \n",
       "14565        3.000000         2                         0        0   \n",
       "21310        2.333333         2                         0        0   \n",
       "26317        1.000000         2                         0        0   \n",
       "32322        1.000000         2                         0        0   \n",
       "54026        5.000000         4                         0        0   \n",
       "54687        5.000000         2                         0        0   \n",
       "70942        1.000000         2                         0        0   \n",
       "81729        5.000000         2                         2        0   \n",
       "89644        1.000000         2                         0        0   \n",
       "92883        1.000000         2                         0        0   \n",
       "\n",
       "       electronics  grocery  home_&_kitchen  office  supplies_&_tools  \\\n",
       "7126             0        0               0       0                 0   \n",
       "7806             0        0               4       0                 0   \n",
       "14565            0        0               1       0                 0   \n",
       "21310            0        0               2       1                 0   \n",
       "26317            0        0               0       1                 0   \n",
       "32322            0        0               0       0                 1   \n",
       "54026            0        0               0       0                 7   \n",
       "54687            0        0               0       0                 1   \n",
       "70942            2        0               0       0                 0   \n",
       "81729            0        0               0       0                 0   \n",
       "89644            0        0               2       0                 0   \n",
       "92883            0        0               2       1                 0   \n",
       "\n",
       "       toys_&_games  unknown_product  \n",
       "7126              1                2  \n",
       "7806              0                2  \n",
       "14565             0                2  \n",
       "21310             0                0  \n",
       "26317             0                2  \n",
       "32322             0                2  \n",
       "54026             0                0  \n",
       "54687             0                2  \n",
       "70942             0                0  \n",
       "81729             0                0  \n",
       "89644             0                0  \n",
       "92883             0                0  "
      ]
     },
     "execution_count": 93,
     "metadata": {},
     "output_type": "execute_result"
    }
   ],
   "source": [
    "# Clients ayant annulé plus de deux articles commandés :\n",
    "data[data[\"canceled\"]>=2]"
   ]
  },
  {
   "cell_type": "raw",
   "id": "937c2efd",
   "metadata": {},
   "source": [
    "Tout semble normal. Peu de clients annulent leur commande (rappelons tout de même que beaucoup d'annulations ont été précédemment effacées du fait que leurs initiateurs ont été considérés comme non-clients)."
   ]
  },
  {
   "cell_type": "markdown",
   "id": "2bc623fe",
   "metadata": {},
   "source": [
    "#### 15) Variables catégorielles encodées :"
   ]
  },
  {
   "cell_type": "code",
   "execution_count": 94,
   "id": "f8b1f697",
   "metadata": {},
   "outputs": [
    {
     "data": {
      "text/html": [
       "<div>\n",
       "<style scoped>\n",
       "    .dataframe tbody tr th:only-of-type {\n",
       "        vertical-align: middle;\n",
       "    }\n",
       "\n",
       "    .dataframe tbody tr th {\n",
       "        vertical-align: top;\n",
       "    }\n",
       "\n",
       "    .dataframe thead th {\n",
       "        text-align: right;\n",
       "    }\n",
       "</style>\n",
       "<table border=\"1\" class=\"dataframe\">\n",
       "  <thead>\n",
       "    <tr style=\"text-align: right;\">\n",
       "      <th></th>\n",
       "      <th>clothing_shoes_&amp;_jewelry</th>\n",
       "      <th>culture</th>\n",
       "      <th>electronics</th>\n",
       "      <th>grocery</th>\n",
       "      <th>home_&amp;_kitchen</th>\n",
       "      <th>office</th>\n",
       "      <th>supplies_&amp;_tools</th>\n",
       "      <th>toys_&amp;_games</th>\n",
       "      <th>unknown_product</th>\n",
       "    </tr>\n",
       "  </thead>\n",
       "  <tbody>\n",
       "    <tr>\n",
       "      <th>count</th>\n",
       "      <td>95563.000000</td>\n",
       "      <td>95563.000000</td>\n",
       "      <td>95563.000000</td>\n",
       "      <td>95563.000000</td>\n",
       "      <td>95563.000000</td>\n",
       "      <td>95563.000000</td>\n",
       "      <td>95563.000000</td>\n",
       "      <td>95563.000000</td>\n",
       "      <td>95563.000000</td>\n",
       "    </tr>\n",
       "    <tr>\n",
       "      <th>mean</th>\n",
       "      <td>0.279501</td>\n",
       "      <td>0.020269</td>\n",
       "      <td>0.136402</td>\n",
       "      <td>0.012704</td>\n",
       "      <td>0.338426</td>\n",
       "      <td>0.114228</td>\n",
       "      <td>0.064648</td>\n",
       "      <td>0.092222</td>\n",
       "      <td>0.022226</td>\n",
       "    </tr>\n",
       "    <tr>\n",
       "      <th>std</th>\n",
       "      <td>0.492111</td>\n",
       "      <td>0.145596</td>\n",
       "      <td>0.358692</td>\n",
       "      <td>0.117999</td>\n",
       "      <td>0.555946</td>\n",
       "      <td>0.340432</td>\n",
       "      <td>0.261737</td>\n",
       "      <td>0.299890</td>\n",
       "      <td>0.150301</td>\n",
       "    </tr>\n",
       "    <tr>\n",
       "      <th>min</th>\n",
       "      <td>0.000000</td>\n",
       "      <td>0.000000</td>\n",
       "      <td>0.000000</td>\n",
       "      <td>0.000000</td>\n",
       "      <td>0.000000</td>\n",
       "      <td>0.000000</td>\n",
       "      <td>0.000000</td>\n",
       "      <td>0.000000</td>\n",
       "      <td>0.000000</td>\n",
       "    </tr>\n",
       "    <tr>\n",
       "      <th>25%</th>\n",
       "      <td>0.000000</td>\n",
       "      <td>0.000000</td>\n",
       "      <td>0.000000</td>\n",
       "      <td>0.000000</td>\n",
       "      <td>0.000000</td>\n",
       "      <td>0.000000</td>\n",
       "      <td>0.000000</td>\n",
       "      <td>0.000000</td>\n",
       "      <td>0.000000</td>\n",
       "    </tr>\n",
       "    <tr>\n",
       "      <th>50%</th>\n",
       "      <td>0.000000</td>\n",
       "      <td>0.000000</td>\n",
       "      <td>0.000000</td>\n",
       "      <td>0.000000</td>\n",
       "      <td>0.000000</td>\n",
       "      <td>0.000000</td>\n",
       "      <td>0.000000</td>\n",
       "      <td>0.000000</td>\n",
       "      <td>0.000000</td>\n",
       "    </tr>\n",
       "    <tr>\n",
       "      <th>75%</th>\n",
       "      <td>1.000000</td>\n",
       "      <td>0.000000</td>\n",
       "      <td>0.000000</td>\n",
       "      <td>0.000000</td>\n",
       "      <td>1.000000</td>\n",
       "      <td>0.000000</td>\n",
       "      <td>0.000000</td>\n",
       "      <td>0.000000</td>\n",
       "      <td>0.000000</td>\n",
       "    </tr>\n",
       "    <tr>\n",
       "      <th>max</th>\n",
       "      <td>14.000000</td>\n",
       "      <td>3.000000</td>\n",
       "      <td>4.000000</td>\n",
       "      <td>8.000000</td>\n",
       "      <td>13.000000</td>\n",
       "      <td>7.000000</td>\n",
       "      <td>8.000000</td>\n",
       "      <td>6.000000</td>\n",
       "      <td>3.000000</td>\n",
       "    </tr>\n",
       "  </tbody>\n",
       "</table>\n",
       "</div>"
      ],
      "text/plain": [
       "       clothing_shoes_&_jewelry       culture   electronics       grocery  \\\n",
       "count              95563.000000  95563.000000  95563.000000  95563.000000   \n",
       "mean                   0.279501      0.020269      0.136402      0.012704   \n",
       "std                    0.492111      0.145596      0.358692      0.117999   \n",
       "min                    0.000000      0.000000      0.000000      0.000000   \n",
       "25%                    0.000000      0.000000      0.000000      0.000000   \n",
       "50%                    0.000000      0.000000      0.000000      0.000000   \n",
       "75%                    1.000000      0.000000      0.000000      0.000000   \n",
       "max                   14.000000      3.000000      4.000000      8.000000   \n",
       "\n",
       "       home_&_kitchen        office  supplies_&_tools  toys_&_games  \\\n",
       "count    95563.000000  95563.000000      95563.000000  95563.000000   \n",
       "mean         0.338426      0.114228          0.064648      0.092222   \n",
       "std          0.555946      0.340432          0.261737      0.299890   \n",
       "min          0.000000      0.000000          0.000000      0.000000   \n",
       "25%          0.000000      0.000000          0.000000      0.000000   \n",
       "50%          0.000000      0.000000          0.000000      0.000000   \n",
       "75%          1.000000      0.000000          0.000000      0.000000   \n",
       "max         13.000000      7.000000          8.000000      6.000000   \n",
       "\n",
       "       unknown_product  \n",
       "count     95563.000000  \n",
       "mean          0.022226  \n",
       "std           0.150301  \n",
       "min           0.000000  \n",
       "25%           0.000000  \n",
       "50%           0.000000  \n",
       "75%           0.000000  \n",
       "max           3.000000  "
      ]
     },
     "execution_count": 94,
     "metadata": {},
     "output_type": "execute_result"
    }
   ],
   "source": [
    "# aperçu : clothing_shoes_&_jewelry\n",
    "data[[\"clothing_shoes_&_jewelry\",\"culture\",\"electronics\",\"grocery\",\"home_&_kitchen\",\n",
    "      \"office\",\"supplies_&_tools\",\"toys_&_games\",\"unknown_product\"]].describe()"
   ]
  },
  {
   "cell_type": "raw",
   "id": "19dc9e13",
   "metadata": {},
   "source": [
    "Pas de problèmes sur ces variables : le minimum est 0, les maximums sont cohérents."
   ]
  },
  {
   "cell_type": "markdown",
   "id": "c1564994",
   "metadata": {},
   "source": [
    "## IV - ANALYSE EXPLORATOIRE :"
   ]
  },
  {
   "cell_type": "markdown",
   "id": "23a0a992",
   "metadata": {},
   "source": [
    "### A - Analyse des variables :"
   ]
  },
  {
   "cell_type": "markdown",
   "id": "6e3d414b",
   "metadata": {},
   "source": [
    "#### 1) Histogramme des distributions des variables numériques :"
   ]
  },
  {
   "cell_type": "code",
   "execution_count": 95,
   "id": "5864a175",
   "metadata": {
    "scrolled": false
   },
   "outputs": [
    {
     "data": {
      "image/png": "[encoded data removed]",
      "text/plain": [
       "<Figure size 432x288 with 1 Axes>"
      ]
     },
     "metadata": {
      "needs_background": "light"
     },
     "output_type": "display_data"
    },
    {
     "data": {
      "image/png": "[encoded data removed]",
      "text/plain": [
       "<Figure size 432x288 with 1 Axes>"
      ]
     },
     "metadata": {
      "needs_background": "light"
     },
     "output_type": "display_data"
    },
    {
     "data": {
      "image/png": "[encoded data removed]",
      "text/plain": [
       "<Figure size 432x288 with 1 Axes>"
      ]
     },
     "metadata": {
      "needs_background": "light"
     },
     "output_type": "display_data"
    },
    {
     "data": {
      "image/png": "[encoded data removed]",
      "text/plain": [
       "<Figure size 432x288 with 1 Axes>"
      ]
     },
     "metadata": {
      "needs_background": "light"
     },
     "output_type": "display_data"
    },
    {
     "data": {
      "image/png": "[encoded data removed]",
      "text/plain": [
       "<Figure size 432x288 with 1 Axes>"
      ]
     },
     "metadata": {
      "needs_background": "light"
     },
     "output_type": "display_data"
    },
    {
     "data": {
      "image/png": "[encoded data removed]",
      "text/plain": [
       "<Figure size 432x288 with 1 Axes>"
      ]
     },
     "metadata": {
      "needs_background": "light"
     },
     "output_type": "display_data"
    },
    {
     "data": {
      "image/png": "[encoded data removed]",
      "text/plain": [
       "<Figure size 432x288 with 1 Axes>"
      ]
     },
     "metadata": {
      "needs_background": "light"
     },
     "output_type": "display_data"
    },
    {
     "data": {
      "image/png": "[encoded data removed]",
      "text/plain": [
       "<Figure size 432x288 with 1 Axes>"
      ]
     },
     "metadata": {
      "needs_background": "light"
     },
     "output_type": "display_data"
    },
    {
     "data": {
      "image/png": "[encoded data removed]",
      "text/plain": [
       "<Figure size 432x288 with 1 Axes>"
      ]
     },
     "metadata": {
      "needs_background": "light"
     },
     "output_type": "display_data"
    },
    {
     "data": {
      "image/png": "[encoded data removed]",
      "text/plain": [
       "<Figure size 432x288 with 1 Axes>"
      ]
     },
     "metadata": {
      "needs_background": "light"
     },
     "output_type": "display_data"
    },
    {
     "data": {
      "image/png": "[encoded data removed]",
      "text/plain": [
       "<Figure size 432x288 with 1 Axes>"
      ]
     },
     "metadata": {
      "needs_background": "light"
     },
     "output_type": "display_data"
    },
    {
     "data": {
      "image/png": "[encoded data removed]",
      "text/plain": [
       "<Figure size 432x288 with 1 Axes>"
      ]
     },
     "metadata": {
      "needs_background": "light"
     },
     "output_type": "display_data"
    },
    {
     "data": {
      "image/png": "[encoded data removed]",
      "text/plain": [
       "<Figure size 432x288 with 1 Axes>"
      ]
     },
     "metadata": {
      "needs_background": "light"
     },
     "output_type": "display_data"
    },
    {
     "data": {
      "image/png": "[encoded data removed]",
      "text/plain": [
       "<Figure size 432x288 with 1 Axes>"
      ]
     },
     "metadata": {
      "needs_background": "light"
     },
     "output_type": "display_data"
    },
    {
     "data": {
      "image/png": "[encoded data removed]",
      "text/plain": [
       "<Figure size 432x288 with 1 Axes>"
      ]
     },
     "metadata": {
      "needs_background": "light"
     },
     "output_type": "display_data"
    },
    {
     "data": {
      "image/png": "[encoded data removed]",
      "text/plain": [
       "<Figure size 432x288 with 1 Axes>"
      ]
     },
     "metadata": {
      "needs_background": "light"
     },
     "output_type": "display_data"
    },
    {
     "data": {
      "image/png": "[encoded data removed]",
      "text/plain": [
       "<Figure size 432x288 with 1 Axes>"
      ]
     },
     "metadata": {
      "needs_background": "light"
     },
     "output_type": "display_data"
    },
    {
     "data": {
      "image/png": "[encoded data removed]",
      "text/plain": [
       "<Figure size 432x288 with 1 Axes>"
      ]
     },
     "metadata": {
      "needs_background": "light"
     },
     "output_type": "display_data"
    },
    {
     "data": {
      "image/png": "[encoded data removed]",
      "text/plain": [
       "<Figure size 432x288 with 1 Axes>"
      ]
     },
     "metadata": {
      "needs_background": "light"
     },
     "output_type": "display_data"
    },
    {
     "data": {
      "image/png": "[encoded data removed]",
      "text/plain": [
       "<Figure size 432x288 with 1 Axes>"
      ]
     },
     "metadata": {
      "needs_background": "light"
     },
     "output_type": "display_data"
    },
    {
     "data": {
      "image/png": "[encoded data removed]",
      "text/plain": [
       "<Figure size 432x288 with 1 Axes>"
      ]
     },
     "metadata": {
      "needs_background": "light"
     },
     "output_type": "display_data"
    }
   ],
   "source": [
    "# Affichage des distributions des variables :\n",
    "\n",
    "import matplotlib as mpl\n",
    "mpl.rc('figure', max_open_warning = 0)\n",
    "\n",
    "for c in data.select_dtypes(np.number).columns :\n",
    "    plt.figure()\n",
    "    plt.hist(data.select_dtypes(np.number)[c])\n",
    "    plt.title(f\"{c}\")"
   ]
  },
  {
   "cell_type": "markdown",
   "id": "f7c5b15b",
   "metadata": {},
   "source": [
    "#### 2) Corrélations entre les variables :"
   ]
  },
  {
   "cell_type": "code",
   "execution_count": 101,
   "id": "df80931e",
   "metadata": {},
   "outputs": [
    {
     "data": {
      "text/plain": [
       "<AxesSubplot:>"
      ]
     },
     "execution_count": 101,
     "metadata": {},
     "output_type": "execute_result"
    },
    {
     "data": {
      "image/png": "[encoded data removed]",
      "text/plain": [
       "<Figure size 720x720 with 2 Axes>"
      ]
     },
     "metadata": {
      "needs_background": "light"
     },
     "output_type": "display_data"
    }
   ],
   "source": [
    "# Matrice de corrélation :\n",
    "plt.figure(figsize=(10,10))\n",
    "mask=np.zeros_like(data.corr())\n",
    "mask[np.triu_indices_from(mask)] = True\n",
    "sns.heatmap(abs(data.corr()), mask=mask, square=True, linewidth=.5)"
   ]
  },
  {
   "cell_type": "raw",
   "id": "cecbf593",
   "metadata": {},
   "source": [
    "Il y assez peu de corrélations linéaires entre nos variables, mais l'on peut en tirer tout de même certaines conclusions :\n",
    "\n",
    "1 - La corrélation très forte entre fréquence, récence, et période d'activité tient malheureusement au fait que de nombreux clients n'ont procédé qu'à une seule et unique commande ; malheureusement, car cela va compliquer la tâche de segmentation.\n",
    "\n",
    "2 - Sans surprises, il y a corrélation entre : les mauvaises évaluations et les notes reçues, le panier moyen et la dépense, le temps de livraison et les retards.\n",
    "\n",
    "3 - On remarque déjà certains points qui pourraient influer sur notre segmentation. Il y a par exemple anticorrélation entre les clients qui achètent des produits de maison et cuisine et ceux qui achètent des vêtements, ce qui tend à démontrer qu'il s'agit de clients aux comportements différents.\n",
    "\n",
    "5 - Les clients qui achètent des produits de maison et cuisine ont les paniers moyens les plus importants. Et par conséquent, ils utilisent davantage de bons d'achat."
   ]
  },
  {
   "cell_type": "markdown",
   "id": "eb1ba22e",
   "metadata": {},
   "source": [
    "### B - Profil des clients :"
   ]
  },
  {
   "cell_type": "markdown",
   "id": "5a27eb0d",
   "metadata": {},
   "source": [
    "#### 1) Client type :"
   ]
  },
  {
   "cell_type": "code",
   "execution_count": null,
   "id": "94a931b9",
   "metadata": {},
   "outputs": [],
   "source": [
    "# De quel État vient-il ?\n",
    "data[\"customer_state\"].mode()"
   ]
  },
  {
   "cell_type": "code",
   "execution_count": null,
   "id": "83a11e95",
   "metadata": {},
   "outputs": [],
   "source": [
    "# Est-il inscrit sur le site depuis longtemps ?\n",
    "data[\"activity_period\"].mean()"
   ]
  },
  {
   "cell_type": "code",
   "execution_count": null,
   "id": "23399764",
   "metadata": {},
   "outputs": [],
   "source": [
    "# Combien de commandes a-t-il effectué-t-il sur le site ?\n",
    "data[\"nbr_orders\"].mode()"
   ]
  },
  {
   "cell_type": "code",
   "execution_count": null,
   "id": "544019aa",
   "metadata": {},
   "outputs": [],
   "source": [
    "# Quel est son panier moyen ?\n",
    "data[\"average_cart\"].mode()"
   ]
  },
  {
   "cell_type": "code",
   "execution_count": null,
   "id": "95ddb4ba",
   "metadata": {},
   "outputs": [],
   "source": [
    "# Qu'achète-t-il ?\n",
    "data[[\"clothing_shoes_&_jewelry\",\"culture\",\"electronics\",\"grocery\",\"home_&_kitchen\",\n",
    "      \"office\",\"supplies_&_tools\",\"toys_&_games\",\"unknown_product\"]].sum().sort_values()"
   ]
  },
  {
   "cell_type": "code",
   "execution_count": null,
   "id": "b4467c26",
   "metadata": {},
   "outputs": [],
   "source": [
    "# Quel est la fréquence de ses achats ?\n",
    "data[\"frequency\"].mean()"
   ]
  },
  {
   "cell_type": "code",
   "execution_count": null,
   "id": "ea4620b1",
   "metadata": {},
   "outputs": [],
   "source": [
    "# Quel est le montant total de ses dépenses :\n",
    "data[\"monetary_value\"].mean()"
   ]
  },
  {
   "cell_type": "code",
   "execution_count": null,
   "id": "6404ae96",
   "metadata": {},
   "outputs": [],
   "source": [
    "# Est-il satisfait des services de l'entreprise ?\n",
    "data[\"average_review\"].mean()"
   ]
  },
  {
   "cell_type": "raw",
   "id": "f525271e",
   "metadata": {},
   "source": [
    "le client moyen de ce jeu de données :\n",
    "\n",
    "    - s'est inscrit assez récemment sur le site (moins d'un an).\n",
    "    \n",
    "    - il vit dans l'État de São Paulo.\n",
    "    \n",
    "    - Il n'a encore procédé qu'à une seule commande.\n",
    "    \n",
    "    - Cette commande ne contenait qu'un seul produit.\n",
    "    \n",
    "    - il s'agissait d'un produit lié à la maison ou aux vêtements.\n",
    "    \n",
    "    - La valeur de cet achat était d'un peu plus de 200 réaux.\n",
    "    \n",
    "    - La fréquence de ses achats est encore difficile à évaluer, justement parce qu'il est client depuis peu et qu'il n'a effectué qu'un seul achat.\n",
    "    \n",
    "    - Il se dit très satisfait des services de l'entreprise."
   ]
  },
  {
   "cell_type": "markdown",
   "id": "81895a23",
   "metadata": {},
   "source": [
    "#### 2) Influence de l'État de domiciliation :"
   ]
  },
  {
   "cell_type": "code",
   "execution_count": null,
   "id": "c5e001f2",
   "metadata": {},
   "outputs": [],
   "source": [
    "# Importance de la clientèle par État fédéraux\n",
    "pie_state = data.groupby(\"customer_state\")[\"customer_unique_id\"].count()\n",
    "plt.figure(figsize=(5,5))\n",
    "plt.title(\"Nombre de clients par États Fédéraux\")\n",
    "plt.pie(pie_state, labels=pie_state.index)\n",
    "plt.show()"
   ]
  },
  {
   "cell_type": "code",
   "execution_count": null,
   "id": "b2777683",
   "metadata": {},
   "outputs": [],
   "source": [
    "# Importance de la domiciliation sur le montant dépensé :\n",
    "plt.figure(figsize=(6,7))\n",
    "plt.title(\"Influence de l'État de résidence sur les dépenses\")\n",
    "sns.boxplot(x=data[\"monetary_value\"], y=data[\"customer_state\"], showfliers=False)"
   ]
  },
  {
   "cell_type": "raw",
   "id": "a8bae40b",
   "metadata": {},
   "source": [
    "Le lieu de résidence n'a semble-t-il pas d'influence sur le montant dépensé. Vérifions avec une Anova :"
   ]
  },
  {
   "cell_type": "code",
   "execution_count": null,
   "id": "69804c71",
   "metadata": {},
   "outputs": [],
   "source": [
    "# ANOVA monetary_value ~ customer_state :\n",
    "anova_state_money = smf.ols(\"monetary_value ~ customer_state\" \n",
    "                            ,data=data).fit()\n",
    "anova_state_money.summary()"
   ]
  },
  {
   "cell_type": "code",
   "execution_count": null,
   "id": "e0c029c8",
   "metadata": {},
   "outputs": [],
   "source": [
    "# Influence de la domiciliation sur le type d'achat :\n",
    "plt.figure(figsize=(10,6))\n",
    "plt.title(\"Influence de l'État de résidence sur le type d'achats\")\n",
    "sns.heatmap(data[[\"customer_state\",\"clothing_shoes_&_jewelry\",\"culture\",\"electronics\",\"grocery\",\"home_&_kitchen\",\n",
    "      \"office\",\"supplies_&_tools\",\"toys_&_games\",\"unknown_product\"]].groupby(\"customer_state\").sum().T)"
   ]
  },
  {
   "cell_type": "raw",
   "id": "c189b835",
   "metadata": {},
   "source": [
    "Le lieu de résidence n'a semble-t-il pas d'influence sur le type de produits achetés.Vérifions avec un test du chi2 :"
   ]
  },
  {
   "cell_type": "code",
   "execution_count": null,
   "id": "7dd9cbd8",
   "metadata": {},
   "outputs": [],
   "source": [
    "# Table de contingence et chi2 :\n",
    "datachi2_pivot = datachi2.pivot_table(index=\"product_category_name_english\", columns=\"customer_state\",\n",
    "                                      values=\"nbr_orders\", aggfunc=len, margins=True)\n",
    "tx = datachi2_pivot.loc[:,[\"All\"]]\n",
    "ty = datachi2_pivot.loc[[\"All\"],:]\n",
    "n = len(datachi2)\n",
    "indep = tx.dot(ty) / n\n",
    "\n",
    "c = datachi2_pivot.fillna(0)\n",
    "measure = (c-indep)**2/indep\n",
    "xi_n = measure.sum().sum()\n",
    "table = measure/xi_n\n",
    "table"
   ]
  },
  {
   "cell_type": "code",
   "execution_count": null,
   "id": "3f55785b",
   "metadata": {},
   "outputs": [],
   "source": [
    "# Heatmap chi2 :\n",
    "plt.figure(figsize=(20,10))\n",
    "sns.heatmap(table.iloc[:-1,:-1])\n",
    "plt.title(\"Corrélation entre le sexe des clients et la catégorie de produit\")\n",
    "plt.xlabel(\"catégorie de produits\")\n",
    "plt.ylabel(\"Sexe de clients\")\n",
    "plt.show()"
   ]
  },
  {
   "cell_type": "markdown",
   "id": "4683e857",
   "metadata": {},
   "source": [
    "Les valeurs de chi2 entre l'État de domiciliation du client et le type d'achat est très faible (moins de 0.03 au général)."
   ]
  },
  {
   "cell_type": "markdown",
   "id": "acc22662",
   "metadata": {},
   "source": [
    "## V - EXPORT DU DATAFRAME TRANSFORMÉ ET NETTOYÉ :"
   ]
  },
  {
   "cell_type": "markdown",
   "id": "a8ba2e0c",
   "metadata": {},
   "source": [
    "### A) Dernières transformations :"
   ]
  },
  {
   "cell_type": "markdown",
   "id": "1ec8c7bd",
   "metadata": {},
   "source": [
    "#### 1) Suppression de variables non utiles à la segmentation :"
   ]
  },
  {
   "cell_type": "raw",
   "id": "9b7e774f",
   "metadata": {},
   "source": [
    "À ce stade, certaines variables qui nous ont servi pour l'analyse exploratoire (et notamment comprendre l'influence des retards sur les notes) n'ont plus de valeurs pour la segmentation des clients. Il s'agit de :\n",
    "    - \"average_delivering_time\"\n",
    "    - \"average_late\"\n",
    "\n",
    "De même, l'analyse exploratoire nous a montré qu'il n'existe pas de différences notables de comportement selon les lieux de résidences des clients. Cette variable qui contient 27 valeurs à encoder est donc davantage susceptible de perturber notre segmentation (fléau des dimensions) que d'y apporter de la précision. Nous supprimerons donc également :\n",
    "    - \"customer_state\""
   ]
  },
  {
   "cell_type": "code",
   "execution_count": null,
   "id": "2213cd5b",
   "metadata": {},
   "outputs": [],
   "source": [
    "# Suppression des variables : \n",
    "data.drop(columns=[\"average_delivering_time\",\"average_late\",\"customer_state\"], inplace=True)"
   ]
  },
  {
   "cell_type": "markdown",
   "id": "cbadc4e0",
   "metadata": {},
   "source": [
    "#### 2) Imputation des valeurs manquantes à la variable \"average_review\" :"
   ]
  },
  {
   "cell_type": "raw",
   "id": "a7a09774",
   "metadata": {},
   "source": [
    "684 clients n'ont pas communiqué de notes à leur transaction. Cette information très importante à la segmentation doit être renseignée pour que le clustering soit possible.\n",
    "\n",
    "Nous partons sur le principe que si ces 684 clients n'ont pas donné de notes à la transaction, c'est qu'ils n'en étaient ni particulièrement mécontents, ni assez heureux pour le signaler. On peut donc considérer que la qualité de la transaction se trouvait dans la moyenne (ce qui donne 4 sur 5), ce qui apparaît simple, mais finalement plus pertinent que des méthodes d'imputation plus élaborées (KNN imputer par exemple)."
   ]
  },
  {
   "cell_type": "code",
   "execution_count": null,
   "id": "1559a874",
   "metadata": {},
   "outputs": [],
   "source": [
    "# Imputation des notes manquantes :\n",
    "data[\"average_review\"].fillna(round(data[\"average_review\"].mean()), inplace=True)"
   ]
  },
  {
   "cell_type": "markdown",
   "id": "75e15a8a",
   "metadata": {},
   "source": [
    "#### 3) Imputation des valeurs manquantes des variables \"average_voucher\" et \"average_installments\" :"
   ]
  },
  {
   "cell_type": "raw",
   "id": "8702f7f6",
   "metadata": {},
   "source": [
    "Même constat pour ces deux variables que pour la précédente : nous n'avons que deux valeurs manquantes (une pour chaque variable) et nous devons l'imputer. Ici, en revanche, utiliser une moyenne n'aurait pas beaucoup de sens. L'utilisation du mode (l'usage, la valeur la plus rencontrée) semble pertinent."
   ]
  },
  {
   "cell_type": "code",
   "execution_count": null,
   "id": "1a8b1edd",
   "metadata": {},
   "outputs": [],
   "source": [
    "# Imputation des valeurs manquantes :\n",
    "data[\"average_voucher\"].fillna(data[\"average_voucher\"].mode()[0], inplace=True)\n",
    "data[\"average_installments\"].fillna(data[\"average_installments\"].mode()[0], inplace=True)"
   ]
  },
  {
   "cell_type": "markdown",
   "id": "e61a6e3e",
   "metadata": {},
   "source": [
    "### B - Export :"
   ]
  },
  {
   "cell_type": "code",
   "execution_count": null,
   "id": "e90c1af9",
   "metadata": {},
   "outputs": [],
   "source": [
    "# Export au format CSV :\n",
    "data.to_csv(\"cleaned_data.csv\")"
   ]
  }
 ],
 "metadata": {
  "kernelspec": {
   "display_name": "Python 3 (ipykernel)",
   "language": "python",
   "name": "python3"
  },
  "language_info": {
   "codemirror_mode": {
    "name": "ipython",
    "version": 3
   },
   "file_extension": ".py",
   "mimetype": "text/x-python",
   "name": "python",
   "nbconvert_exporter": "python",
   "pygments_lexer": "ipython3",
   "version": "3.8.13"
  }
 },
 "nbformat": 4,
 "nbformat_minor": 5
}
